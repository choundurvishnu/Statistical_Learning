{
 "cells": [
  {
   "cell_type": "code",
   "execution_count": 1,
   "id": "b65f534d",
   "metadata": {},
   "outputs": [],
   "source": [
    "import numpy as np\n",
    "from scipy import stats\n",
    "import pandas as pd\n",
    "\n"
   ]
  },
  {
   "cell_type": "code",
   "execution_count": 2,
   "id": "736a1dca",
   "metadata": {},
   "outputs": [],
   "source": [
    "data = pd.read_csv('C:/Users/choun/bio_stats_1.csv')\n",
    "data = data['data'].dropna().tolist()"
   ]
  },
  {
   "cell_type": "markdown",
   "id": "b220bd0f",
   "metadata": {},
   "source": [
    "##  Right Tailed test"
   ]
  },
  {
   "cell_type": "code",
   "execution_count": 3,
   "id": "ea9bf490",
   "metadata": {},
   "outputs": [],
   "source": [
    "mu=130"
   ]
  },
  {
   "cell_type": "code",
   "execution_count": 4,
   "id": "82bbfc6c",
   "metadata": {},
   "outputs": [],
   "source": [
    "# Set the significance level\n",
    "alpha = 0.05"
   ]
  },
  {
   "cell_type": "code",
   "execution_count": 5,
   "id": "a55205e8",
   "metadata": {},
   "outputs": [
    {
     "name": "stdout",
     "output_type": "stream",
     "text": [
      "mean :  141.55\n",
      "Standard Deviation :  4.7292482990094955\n",
      "Sample Size :  20\n",
      "Statndard Error :  1.0574920679060482\n"
     ]
    }
   ],
   "source": [
    "sample_mean = np.mean(data)\n",
    "sample_std = np.std(data, ddof=1)  # ddof=1 for Bessel's correction\n",
    "sample_size = len(data)\n",
    "standard_error = sample_std / np.sqrt(sample_size)\n",
    "\n",
    "print(\"mean : \", sample_mean)\n",
    "print(\"Standard Deviation : \", sample_std)\n",
    "print(\"Sample Size : \", sample_size)\n",
    "print(\"Statndard Error : \", standard_error)"
   ]
  },
  {
   "cell_type": "markdown",
   "id": "ca251b63",
   "metadata": {},
   "source": [
    "### Test Statistic"
   ]
  },
  {
   "cell_type": "code",
   "execution_count": 7,
   "id": "e132da02",
   "metadata": {},
   "outputs": [
    {
     "name": "stdout",
     "output_type": "stream",
     "text": [
      "T test Statistic :  10.922067739827396\n"
     ]
    }
   ],
   "source": [
    "# Calculate the t-statistic\n",
    "t_statistic = (sample_mean - 130) / (standard_error)\n",
    "\n",
    "print(\"T test Statistic : \",t_statistic)"
   ]
  },
  {
   "cell_type": "markdown",
   "id": "ad5b239c",
   "metadata": {},
   "source": [
    "### Calculate the critical value for a one-tailed test (right-tailed)"
   ]
  },
  {
   "cell_type": "code",
   "execution_count": 6,
   "id": "abee6e4b",
   "metadata": {},
   "outputs": [
    {
     "name": "stdout",
     "output_type": "stream",
     "text": [
      "Critical Value :  1.729132811521367\n"
     ]
    }
   ],
   "source": [
    "critical_value = stats.t.ppf(1 - alpha, df=sample_size - 1)\n",
    "print(\"Critical Value : \",critical_value)"
   ]
  },
  {
   "cell_type": "markdown",
   "id": "793467f6",
   "metadata": {},
   "source": [
    "### P value"
   ]
  },
  {
   "cell_type": "code",
   "execution_count": 8,
   "id": "e6314f71",
   "metadata": {},
   "outputs": [
    {
     "name": "stdout",
     "output_type": "stream",
     "text": [
      "P Value :  6.241299699283331e-10\n"
     ]
    }
   ],
   "source": [
    "# Calculate the p-value\n",
    "p_value = 1 - stats.t.cdf(t_statistic, df=sample_size - 1)\n",
    "print(\"P Value : \",p_value)"
   ]
  },
  {
   "cell_type": "code",
   "execution_count": 20,
   "id": "d88c7b59",
   "metadata": {},
   "outputs": [
    {
     "name": "stdout",
     "output_type": "stream",
     "text": [
      "2.093024054408263\n"
     ]
    }
   ],
   "source": [
    "print(stats.t.ppf(1 - alpha/2, df=sample_size - 1))"
   ]
  },
  {
   "cell_type": "markdown",
   "id": "e4987dd4",
   "metadata": {},
   "source": [
    "# Calculate the confidence interval"
   ]
  },
  {
   "cell_type": "code",
   "execution_count": 21,
   "id": "d47838fb",
   "metadata": {},
   "outputs": [
    {
     "name": "stdout",
     "output_type": "stream",
     "text": [
      "Margin of Error :  2.213356335473295\n",
      "Confidence Interval :  (139.33664366452672, 143.7633563354733)\n"
     ]
    }
   ],
   "source": [
    "margin_of_error = (stats.t.ppf(1 - alpha/2, df=sample_size - 1)) * (sample_std / np.sqrt(sample_size))\n",
    "confidence_interval = (sample_mean - margin_of_error, sample_mean + margin_of_error)\n",
    "\n",
    "print(\"Margin of Error : \",margin_of_error)\n",
    "print(\"Confidence Interval : \",confidence_interval)"
   ]
  },
  {
   "cell_type": "code",
   "execution_count": 18,
   "id": "ba4a308c",
   "metadata": {},
   "outputs": [
    {
     "name": "stdout",
     "output_type": "stream",
     "text": [
      "Reject the null hypothesis.\n"
     ]
    }
   ],
   "source": [
    "if t_statistic > critical_value:\n",
    "    decision = \"Reject the null hypothesis.\"\n",
    "else:\n",
    "    decision = \"Fail to reject the null hypothesis.\"\n",
    "\n",
    "print(decision)"
   ]
  },
  {
   "cell_type": "code",
   "execution_count": 13,
   "id": "bbb5851f",
   "metadata": {},
   "outputs": [
    {
     "name": "stdout",
     "output_type": "stream",
     "text": [
      "Reject the null hypothesis.\n"
     ]
    }
   ],
   "source": [
    "if p_value < alpha:\n",
    "    decision = \"Reject the null hypothesis.\"\n",
    "else:\n",
    "    decision = \"Fail to reject the null hypothesis.\"\n",
    "\n",
    "print(decision)"
   ]
  },
  {
   "cell_type": "code",
   "execution_count": null,
   "id": "9ea259b2",
   "metadata": {},
   "outputs": [],
   "source": []
  },
  {
   "cell_type": "code",
   "execution_count": null,
   "id": "076bbc50",
   "metadata": {},
   "outputs": [],
   "source": []
  },
  {
   "cell_type": "code",
   "execution_count": 22,
   "id": "118b7734",
   "metadata": {},
   "outputs": [],
   "source": [
    "import numpy as np\n",
    "from scipy.stats import f\n",
    "import numpy as np\n",
    "from scipy import stats\n",
    "import pandas as pd\n"
   ]
  },
  {
   "cell_type": "code",
   "execution_count": 41,
   "id": "638b8829",
   "metadata": {},
   "outputs": [],
   "source": [
    "data = pd.read_csv('C:/Users/choun/pubh_2.csv')  #bio_stats_2"
   ]
  },
  {
   "cell_type": "code",
   "execution_count": 50,
   "id": "5ad0b6dc",
   "metadata": {},
   "outputs": [],
   "source": [
    "alpha = 0.05"
   ]
  },
  {
   "cell_type": "code",
   "execution_count": 42,
   "id": "6ff7eb6f",
   "metadata": {},
   "outputs": [
    {
     "data": {
      "text/html": [
       "<div>\n",
       "<style scoped>\n",
       "    .dataframe tbody tr th:only-of-type {\n",
       "        vertical-align: middle;\n",
       "    }\n",
       "\n",
       "    .dataframe tbody tr th {\n",
       "        vertical-align: top;\n",
       "    }\n",
       "\n",
       "    .dataframe thead th {\n",
       "        text-align: right;\n",
       "    }\n",
       "</style>\n",
       "<table border=\"1\" class=\"dataframe\">\n",
       "  <thead>\n",
       "    <tr style=\"text-align: right;\">\n",
       "      <th></th>\n",
       "      <th>A</th>\n",
       "      <th>B</th>\n",
       "    </tr>\n",
       "  </thead>\n",
       "  <tbody>\n",
       "    <tr>\n",
       "      <th>0</th>\n",
       "      <td>0.0</td>\n",
       "      <td>5.5</td>\n",
       "    </tr>\n",
       "    <tr>\n",
       "      <th>1</th>\n",
       "      <td>1.8</td>\n",
       "      <td>3.9</td>\n",
       "    </tr>\n",
       "    <tr>\n",
       "      <th>2</th>\n",
       "      <td>1.5</td>\n",
       "      <td>5.9</td>\n",
       "    </tr>\n",
       "    <tr>\n",
       "      <th>3</th>\n",
       "      <td>0.4</td>\n",
       "      <td>2.6</td>\n",
       "    </tr>\n",
       "    <tr>\n",
       "      <th>4</th>\n",
       "      <td>3.5</td>\n",
       "      <td>6.8</td>\n",
       "    </tr>\n",
       "    <tr>\n",
       "      <th>5</th>\n",
       "      <td>1.7</td>\n",
       "      <td>1.8</td>\n",
       "    </tr>\n",
       "    <tr>\n",
       "      <th>6</th>\n",
       "      <td>3.9</td>\n",
       "      <td>4.5</td>\n",
       "    </tr>\n",
       "    <tr>\n",
       "      <th>7</th>\n",
       "      <td>5.4</td>\n",
       "      <td>2.5</td>\n",
       "    </tr>\n",
       "    <tr>\n",
       "      <th>8</th>\n",
       "      <td>2.5</td>\n",
       "      <td>3.9</td>\n",
       "    </tr>\n",
       "    <tr>\n",
       "      <th>9</th>\n",
       "      <td>2.7</td>\n",
       "      <td>3.9</td>\n",
       "    </tr>\n",
       "    <tr>\n",
       "      <th>10</th>\n",
       "      <td>NaN</td>\n",
       "      <td>NaN</td>\n",
       "    </tr>\n",
       "    <tr>\n",
       "      <th>11</th>\n",
       "      <td>NaN</td>\n",
       "      <td>NaN</td>\n",
       "    </tr>\n",
       "    <tr>\n",
       "      <th>12</th>\n",
       "      <td>NaN</td>\n",
       "      <td>NaN</td>\n",
       "    </tr>\n",
       "    <tr>\n",
       "      <th>13</th>\n",
       "      <td>NaN</td>\n",
       "      <td>NaN</td>\n",
       "    </tr>\n",
       "    <tr>\n",
       "      <th>14</th>\n",
       "      <td>NaN</td>\n",
       "      <td>NaN</td>\n",
       "    </tr>\n",
       "  </tbody>\n",
       "</table>\n",
       "</div>"
      ],
      "text/plain": [
       "      A    B\n",
       "0   0.0  5.5\n",
       "1   1.8  3.9\n",
       "2   1.5  5.9\n",
       "3   0.4  2.6\n",
       "4   3.5  6.8\n",
       "5   1.7  1.8\n",
       "6   3.9  4.5\n",
       "7   5.4  2.5\n",
       "8   2.5  3.9\n",
       "9   2.7  3.9\n",
       "10  NaN  NaN\n",
       "11  NaN  NaN\n",
       "12  NaN  NaN\n",
       "13  NaN  NaN\n",
       "14  NaN  NaN"
      ]
     },
     "execution_count": 42,
     "metadata": {},
     "output_type": "execute_result"
    }
   ],
   "source": [
    "data"
   ]
  },
  {
   "cell_type": "code",
   "execution_count": 48,
   "id": "bd58af35",
   "metadata": {},
   "outputs": [],
   "source": [
    "A = [0, 1.8, 1.5, 0.4, 3.5, 1.7, 3.9, 5.4, 2.5, 2.7]\n",
    "B = [5.5, 3.9, 5.9, 2.6, 6.8, 1.8, 4.5, 2.5, 3.9, 3.9]"
   ]
  },
  {
   "cell_type": "code",
   "execution_count": 49,
   "id": "3a096bb1",
   "metadata": {},
   "outputs": [
    {
     "name": "stdout",
     "output_type": "stream",
     "text": [
      "Mean Diffiernece :  -1.79\n",
      "Standard Deviation A :  1.6310868905255922\n",
      "Standard Deviation B :  1.5937726033255533\n",
      "Sample A :  10\n",
      "Sample B :  10\n"
     ]
    }
   ],
   "source": [
    "mean_difference = np.mean(A) - np.mean(B)\n",
    "std_A = np.std(A, ddof=1)\n",
    "std_B = np.std(B, ddof=1)\n",
    "n_A = len(A)\n",
    "n_B = len(B)\n",
    "\n",
    "print(\"Mean Diffiernece : \",mean_difference)\n",
    "print(\"Standard Deviation A : \",std_A)\n",
    "print(\"Standard Deviation B : \",std_B)\n",
    "print(\"Sample A : \",n_A)\n",
    "print(\"Sample B : \",n_B)"
   ]
  },
  {
   "cell_type": "code",
   "execution_count": 52,
   "id": "b6fef8ab",
   "metadata": {},
   "outputs": [
    {
     "name": "stdout",
     "output_type": "stream",
     "text": [
      " Test Statistic :  -2.482150788124198\n",
      " P value :  0.023150312489156673\n"
     ]
    }
   ],
   "source": [
    "t_statistic, p_value = stats.ttest_ind(A, B)\n",
    "print(\" Test Statistic : \", t_statistic)\n",
    "print(\" P value : \",p_value)"
   ]
  },
  {
   "cell_type": "code",
   "execution_count": 54,
   "id": "9e6bf59e",
   "metadata": {},
   "outputs": [
    {
     "name": "stdout",
     "output_type": "stream",
     "text": [
      "0.7211487749109442\n"
     ]
    }
   ],
   "source": [
    "standard_error = np.sqrt((std_A**2 / n_A) + (std_B**2 / n_B))\n",
    "print(standard_error)"
   ]
  },
  {
   "cell_type": "code",
   "execution_count": 55,
   "id": "ad769763",
   "metadata": {},
   "outputs": [
    {
     "name": "stdout",
     "output_type": "stream",
     "text": [
      "1.5150773555031698\n"
     ]
    }
   ],
   "source": [
    "margin_of_error = stats.t.ppf(1 - alpha / 2, df=n_A + n_B - 2) * standard_error\n",
    "print(margin_of_error)"
   ]
  },
  {
   "cell_type": "code",
   "execution_count": 56,
   "id": "d9002dbf",
   "metadata": {},
   "outputs": [
    {
     "name": "stdout",
     "output_type": "stream",
     "text": [
      "(-3.30507735550317, -0.27492264449683024)\n"
     ]
    }
   ],
   "source": [
    "confidence_interval = (mean_difference - margin_of_error, mean_difference + margin_of_error)\n",
    "print(confidence_interval)"
   ]
  },
  {
   "cell_type": "code",
   "execution_count": 58,
   "id": "0003f9eb",
   "metadata": {},
   "outputs": [
    {
     "name": "stdout",
     "output_type": "stream",
     "text": [
      "Reject the null hypothesis.\n"
     ]
    }
   ],
   "source": [
    "if p_value < alpha:\n",
    "    decision = \"Reject the null hypothesis.\"\n",
    "else:\n",
    "    decision = \"Fail to reject the null hypothesis.\"\n",
    "print(decision)"
   ]
  },
  {
   "cell_type": "code",
   "execution_count": null,
   "id": "fd6f6232",
   "metadata": {},
   "outputs": [],
   "source": []
  },
  {
   "cell_type": "code",
   "execution_count": null,
   "id": "f6adc444",
   "metadata": {},
   "outputs": [],
   "source": [
    "Delta ="
   ]
  },
  {
   "cell_type": "code",
   "execution_count": null,
   "id": "ff7135d8",
   "metadata": {},
   "outputs": [],
   "source": []
  },
  {
   "cell_type": "code",
   "execution_count": null,
   "id": "a75c5d14",
   "metadata": {},
   "outputs": [],
   "source": []
  },
  {
   "cell_type": "code",
   "execution_count": null,
   "id": "b975322a",
   "metadata": {},
   "outputs": [],
   "source": []
  },
  {
   "cell_type": "markdown",
   "id": "6f65f596",
   "metadata": {},
   "source": [
    "# T test for all cases"
   ]
  },
  {
   "cell_type": "code",
   "execution_count": 6,
   "id": "c2868d7a",
   "metadata": {},
   "outputs": [],
   "source": [
    "import numpy as np\n",
    "from scipy import stats\n",
    "import math"
   ]
  },
  {
   "cell_type": "markdown",
   "id": "2fd708ab",
   "metadata": {},
   "source": [
    "##  H = -1 ----> Less than (<)\n",
    "##  H = 1 ----> Greater than (>)\n",
    "##  H = 0 ----> Not Equal ()"
   ]
  },
  {
   "cell_type": "code",
   "execution_count": 26,
   "id": "6deb567b",
   "metadata": {},
   "outputs": [],
   "source": [
    "H = 0"
   ]
  },
  {
   "cell_type": "code",
   "execution_count": 27,
   "id": "cbd9a9bc",
   "metadata": {},
   "outputs": [],
   "source": [
    "delta = 0.5"
   ]
  },
  {
   "cell_type": "code",
   "execution_count": 9,
   "id": "7e63914e",
   "metadata": {},
   "outputs": [],
   "source": [
    "alpha = 0.05"
   ]
  },
  {
   "cell_type": "code",
   "execution_count": 10,
   "id": "aafcd79b",
   "metadata": {},
   "outputs": [
    {
     "name": "stdout",
     "output_type": "stream",
     "text": [
      "Sample A Mean :  6.05625\n",
      "Sample B Mean :  8.433333\n"
     ]
    }
   ],
   "source": [
    "mean_A = 6.05625\n",
    "mean_B = 8.433333\n",
    "print(\"Sample A Mean : \",mean_A)\n",
    "print(\"Sample B Mean : \",mean_B)"
   ]
  },
  {
   "cell_type": "code",
   "execution_count": 11,
   "id": "f84efe74",
   "metadata": {},
   "outputs": [
    {
     "name": "stdout",
     "output_type": "stream",
     "text": [
      "Sample A variance :  37.146625\n",
      "Sample B variance :  92.716667\n"
     ]
    }
   ],
   "source": [
    "var_A = 37.146625\n",
    "var_B = 92.716667\n",
    "print(\"Sample A variance : \",var_A)\n",
    "print(\"Sample B variance : \",var_B)"
   ]
  },
  {
   "cell_type": "code",
   "execution_count": 12,
   "id": "20b02056",
   "metadata": {},
   "outputs": [
    {
     "name": "stdout",
     "output_type": "stream",
     "text": [
      "Sample A size :  16\n",
      "Sample B size :  15\n"
     ]
    }
   ],
   "source": [
    "n_A = 16\n",
    "n_B = 15\n",
    "print(\"Sample A size : \",n_A)\n",
    "print(\"Sample B size : \",n_B)"
   ]
  },
  {
   "cell_type": "code",
   "execution_count": 13,
   "id": "e447cdb0",
   "metadata": {},
   "outputs": [
    {
     "name": "stdout",
     "output_type": "stream",
     "text": [
      "Degree of freedom for A :  15\n",
      "Degree of freedom for B :  14\n"
     ]
    }
   ],
   "source": [
    "df1 = n_A-1\n",
    "df2 = n_B-1\n",
    "print(\"Degree of freedom for A : \",df1)\n",
    "print(\"Degree of freedom for B : \",df2)"
   ]
  },
  {
   "cell_type": "markdown",
   "id": "aa5fda32",
   "metadata": {},
   "source": [
    "## Test Variance"
   ]
  },
  {
   "cell_type": "code",
   "execution_count": 14,
   "id": "80cdd95d",
   "metadata": {},
   "outputs": [
    {
     "name": "stdout",
     "output_type": "stream",
     "text": [
      "F statistic Value :  2.495964761267006\n"
     ]
    }
   ],
   "source": [
    "alpha1 = 0.05\n",
    "if var_A > var_B:\n",
    "    f0 = var_A/var_B\n",
    "else:\n",
    "    f0 = var_B/var_A\n",
    "print(\"F statistic Value : \",f0)"
   ]
  },
  {
   "cell_type": "code",
   "execution_count": 15,
   "id": "a4741ab4",
   "metadata": {},
   "outputs": [
    {
     "name": "stdout",
     "output_type": "stream",
     "text": [
      "Critical value :  2.4243643571062585\n"
     ]
    }
   ],
   "source": [
    "if df1>df2:\n",
    "    f_c = stats.f.ppf(1 - alpha1, df2, df1)\n",
    "else:\n",
    "    f_c = stats.f.ppf(1 - alpha1, df1, df2)\n",
    "print(\"Critical value : \",f_c)"
   ]
  },
  {
   "cell_type": "code",
   "execution_count": 16,
   "id": "54a7fea9",
   "metadata": {},
   "outputs": [
    {
     "name": "stdout",
     "output_type": "stream",
     "text": [
      "Reject the null hypothesis: Variances are not equal.\n"
     ]
    }
   ],
   "source": [
    "if f0 > f_c:\n",
    "    print(\"Reject the null hypothesis: Variances are not equal.\")\n",
    "else:\n",
    "    print(\"Fail to reject the null hypothesis: Variances are equal.\")"
   ]
  },
  {
   "cell_type": "markdown",
   "id": "d1ec2acd",
   "metadata": {},
   "source": [
    "## Need to Edit the functions following !=, <, >"
   ]
  },
  {
   "cell_type": "code",
   "execution_count": 17,
   "id": "c4ca454d",
   "metadata": {},
   "outputs": [],
   "source": [
    "def greater_hypothesis(mean_A,var_A,n_A,mean_B,var_B,n_B,delta,alpha,f0,f_c):\n",
    "    confidence_level = 1-alpha/2\n",
    "    if f0 < f_c:\n",
    "        print(\"Pooled T test\")\n",
    "        sp = ((n_A-1)*var_A + (n_B-1)*var_B)/(n_A+n_B-2)\n",
    "        print(\"Pooled variance : \",sp)\n",
    "        se1 = sp*(n_A+n_B)/(n_A*n_B)\n",
    "        se = math.sqrt(se1)\n",
    "        df = n_A+n_B-2\n",
    "        cv = stats.t.ppf(1 - alpha/2, df=df)\n",
    "    else:\n",
    "        print(\"Satterthwaite T test\")\n",
    "        se1 = (var_A/n_A)+(var_B/n_B)\n",
    "        se= math.sqrt(se1)\n",
    "        vn = ((var_A/n_A)+(var_B/n_B))**2\n",
    "        vd = (((var_A/n_A)**2)/(n_A-1)+((var_B/n_B)**2)/(n_B-1))\n",
    "        v1 = vn/vd\n",
    "        v = round(v1) \n",
    "        df = v\n",
    "        print(\"Start Degree of freedom : \", v)\n",
    "        cv = stats.t.ppf(1 - alpha/2, df=v)\n",
    "\n",
    "    print(\"Standard Error : \",se)\n",
    "    t_stats = (mean_A-mean_B-delta)/se\n",
    "    print(\"Test Statistic value : \", t_stats)\n",
    "    print(\"Degree of freedom : \",df)\n",
    "    critical_value = stats.t.ppf(1 - alpha, df=df)\n",
    "    print(\"Critical value : \",critical_value)\n",
    "    p_value = stats.t.cdf(t_stats, df=df)\n",
    "    print(\"P value : \",p_value)   \n",
    "    CI = (mean_A-mean_B-cv*se,mean_A-mean_B+cv*se)\n",
    "    print(\"Confidence Interval : \", CI)\n",
    "    if(p_value < alpha):\n",
    "        decision = \"Reject the null hypothesis.\"\n",
    "    else:\n",
    "        decision = \"Fail to reject the null hypothesis.\"\n",
    "    print(decision)\n",
    "    "
   ]
  },
  {
   "cell_type": "code",
   "execution_count": 18,
   "id": "010fd87c",
   "metadata": {},
   "outputs": [],
   "source": [
    "def lesser_hypothesis(mean_A,var_A,n_A,mean_B,var_B,n_B,delta,alpha,f0,f_c):\n",
    "    confidence_level = 1-alpha/2\n",
    "    if f0 < f_c:\n",
    "        print(\"Pooled T test\")\n",
    "        sp = ((n_A-1)*var_A + (n_B-1)*var_B)/(n_A+n_B-2)\n",
    "        print(\"Pooled variance : \",sp)\n",
    "        se1 = sp*(n_A+n_B)/(n_A*n_B)\n",
    "        se = math.sqrt(se1)\n",
    "        df = n_A+n_B-2\n",
    "        cv = stats.t.ppf(1 - alpha/2, df=df)\n",
    "        \n",
    "    else:\n",
    "        print(\"Satterthwaite T test\")\n",
    "        se1 = (var_A/n_A)+(var_B/n_B)\n",
    "        se= math.sqrt(se1)\n",
    "        vn = ((var_A/n_A)+(var_B/n_B))**2\n",
    "        vd = (((var_A/n_A)**2)/(n_A-1)+((var_B/n_B)**2)/(n_B-1))\n",
    "        v1 = vn/vd\n",
    "        v = round(v1) \n",
    "        df = v\n",
    "        print(\"Pooled Degree of freedom : \", v)\n",
    "        cv = stats.t.ppf(1 - alpha/2, df=v)\n",
    "                \n",
    "    print(\"Standard Error : \",se)\n",
    "    t_stats = (mean_A-mean_B-delta)/se\n",
    "    print(\"Test Statistic value : \", t_stats)\n",
    "    print(\"Degree of freedom : \",df)\n",
    "    critical_value = stats.t.ppf(alpha, df=df)\n",
    "    print(\"Critical value : \",critical_value)\n",
    "    p_value = stats.t.cdf(t_stats, df=df)\n",
    "    print(\"P value : \",p_value)\n",
    "       \n",
    "    CI = (mean_A-mean_B-cv*se,mean_A-mean_B+cv*se)\n",
    "    print(\"Confidence Interval : \", CI)\n",
    "    if(p_value < alpha):\n",
    "        decision = \"Reject the null hypothesis.\"\n",
    "    else:\n",
    "        decision = \"Fail to reject the null hypothesis.\"\n",
    "    print(decision)"
   ]
  },
  {
   "cell_type": "code",
   "execution_count": 19,
   "id": "ca3e4cb6",
   "metadata": {},
   "outputs": [],
   "source": [
    "def equal_hypothesis(mean_A,var_A,n_A,mean_B,var_B,n_B,delta,alpha,f0,f_c):\n",
    "    confidence_level = 1-alpha/2\n",
    "    if f0 < f_c:\n",
    "        sp = ((n_A-1)*var_A + (n_B-1)*var_B)/(n_A+n_B-2)\n",
    "        print(\"Pooled variance : \",sp)\n",
    "        se1 = sp*(n_A+n_B)/(n_A*n_B)\n",
    "        se = math.sqrt(se1)\n",
    "        df = n_A+n_B-2\n",
    "        print(\"Standard Error : \",se)\n",
    "        cv = stats.t.ppf(1 - alpha/2, df=df)\n",
    "        \n",
    "    else:\n",
    "        se1 = (var_A/n_A)+(var_B/n_B)\n",
    "        se= math.sqrt(se1)\n",
    "        print(\"Standard Error : \",se)\n",
    "        vn = ((var_A/n_A)+(var_B/n_B))**2\n",
    "        vd = (((var_A/n_A)**2)/(n_A-1)+((var_B/n_B)**2)/(n_B-1))\n",
    "        v1 = vn/vd\n",
    "        v = round(v1) \n",
    "        df = v\n",
    "        print(\"Pooled Degree of freedom : \", v)\n",
    "        cv = stats.t.ppf(1 - alpha/2, df=df)\n",
    "        \n",
    "        \n",
    "        \n",
    "        \n",
    "        \n",
    "    t_stats = (mean_A-mean_B-delta)/se\n",
    "    print(\"Test Statistic value : \", t_stats)\n",
    "    print(\"Degree of freedom : \",df)\n",
    "    critical_value = stats.t.ppf(1-alpha/2, df=df)\n",
    "    print(\"Critical value : \",critical_value)\n",
    "    p_value = 2*(1-stats.t.cdf(abs(t_stats), df=df))\n",
    "    print(\"P value : \",p_value)\n",
    "        \n",
    "    CI = (mean_A-mean_B-cv*se,mean_A-mean_B+cv*se)\n",
    "    print(\"Confidence Interval : \", CI)\n",
    "    if(p_value < alpha):\n",
    "        decision = \"Reject the null hypothesis.\"\n",
    "    else:\n",
    "        decision = \"Fail to reject the null hypothesis.\"\n",
    "    print(decision)\n",
    "\n",
    "\n",
    "    \n",
    "    \n",
    "    "
   ]
  },
  {
   "cell_type": "code",
   "execution_count": 28,
   "id": "dc91eeaf",
   "metadata": {
    "scrolled": true
   },
   "outputs": [
    {
     "name": "stdout",
     "output_type": "stream",
     "text": [
      "Standard Error :  2.9159518507398805\n",
      "Pooled Degree of freedom :  23\n",
      "Test Statistic value :  -0.9866702700423469\n",
      "Degree of freedom :  23\n",
      "Critical value :  2.0686576104190406\n",
      "P value :  0.33407097840418754\n",
      "Confidence Interval :  (-8.40918898764854, 3.6550229876485414)\n",
      "Fail to reject the null hypothesis.\n"
     ]
    }
   ],
   "source": [
    "if H == 1:\n",
    "    greater_hypothesis(mean_A,var_A,n_A,mean_B,var_B,n_B,delta,alpha,f0,f_c)\n",
    "elif H == -1:\n",
    "    lesser_hypothesis(mean_A,var_A,n_A,mean_B,var_B,n_B,delta,alpha,f0,f_c)\n",
    "elif H == 0:\n",
    "    equal_hypothesis(mean_A,var_A,n_A,mean_B,var_B,n_B,delta,alpha,f0,f_c)"
   ]
  },
  {
   "cell_type": "code",
   "execution_count": null,
   "id": "afaa9f25",
   "metadata": {},
   "outputs": [],
   "source": []
  },
  {
   "cell_type": "code",
   "execution_count": 24,
   "id": "ade685c8",
   "metadata": {},
   "outputs": [],
   "source": [
    "if H == 1:\n",
    "    if f0 < f_c:\n",
    "        sp = ((n_A-1)*var_A + (n_B-1)*var_B)/(n_A+n_B-2)\n",
    "        print(\"Pooled variance : \",sp)\n",
    "        se = sp*(n_A+n_B)/(n_A*n_B)\n",
    "        print(\"Standard Error : \",se)\n",
    "        t_stats = (mean_A-mean_B-delta)/math.sqrt(se)\n",
    "        print(\"Test Statistic value : \", t_stats)\n",
    "        df = n_A+n_B-2\n",
    "        df1 = n_A-1\n",
    "        df2 = n_B-1\n",
    "        print(\"Degree of freedom : \",df)\n",
    "        critical_value = stats.t.ppf(1 - alpha, df=df)\n",
    "        print(\"Critical value : \",critical_value)\n",
    "        p_value = stats.t.cdf(t_stats, df=df)\n",
    "        print(\"P value : \",p_value)\n",
    "        confidence_level = 1-alpha/2\n",
    "        cv = stats.t.ppf(1 - alpha/2, df=df)\n",
    "        CI = (mean_A-mean_B-cv*math.sqrt(se),mean_A-mean_B+cv*math.sqrt(se))\n",
    "        print(\"Confidence Interval : \", CI)\n",
    "        if(p_value < alpha):\n",
    "            decision = \"Reject the null hypothesis.\"\n",
    "        else:\n",
    "            decision = \"Fail to reject the null hypothesis.\"\n",
    "        print(decision)\n",
    "    else:\n",
    "        se1 = (var_A/n_A)+(var_B/n_B)\n",
    "        se= math.sqrt(se1)\n",
    "        print(\"Standard Error : \",se)\n",
    "        t_stats = (mean_A-mean_B-delta)/se\n",
    "        print(\"Test Statistic value : \", t_stats)\n",
    "        df = n_A+n_B-2\n",
    "        df1 = n_A-1\n",
    "        df2 = n_B-1\n",
    "        print(\"Degree of freedom : \",df)\n",
    "        critical_value = stats.t.ppf(1 - alpha, df=df)\n",
    "        print(\"Critical value : \",critical_value)\n",
    "        p_value = stats.t.cdf(t_stats, df=df)\n",
    "        print(\"P value : \",p_value)\n",
    "        vn = ((var_A/n_A)+(var_B/n_B))**2\n",
    "        vd = (((var_A/n_A)**2)/(n_A-1)+((var_B/n_B)**2)/(n_B-1))\n",
    "        v1 = vn/vd\n",
    "        v = round(v1) \n",
    "        print(\"Pooled Degree of freedom : \", v)\n",
    "        confidence_level = 1-alpha/2\n",
    "        cv = stats.t.ppf(1 - alpha/2, df=v)\n",
    "        CI = (mean_A-mean_B-cv*se,mean_A-mean_B+cv*se)\n",
    "        print(\"Confidence Interval : \", CI)\n",
    "        if(p_value < alpha):\n",
    "            decision = \"Reject the null hypothesis.\"\n",
    "        else:\n",
    "            decision = \"Fail to reject the null hypothesis.\"\n",
    "        print(decision)\n",
    "\n",
    "    "
   ]
  },
  {
   "cell_type": "code",
   "execution_count": 25,
   "id": "def722fa",
   "metadata": {},
   "outputs": [
    {
     "name": "stdout",
     "output_type": "stream",
     "text": [
      "Standard Error :  2.9159518507398805\n",
      "Test Statistic value :  -0.8151996746437526\n",
      "Degree of freedom :  29\n",
      "Critical value :  -1.6991270265334977\n",
      "P value :  0.21080145534785089\n",
      "Pooled Degree of freedom :  23\n",
      "Confidence Interval :  (-8.40918898764854, 3.6550229876485414)\n",
      "Fail to reject the null hypothesis.\n"
     ]
    }
   ],
   "source": [
    "if H == -1:\n",
    "    if f0 < f_c:\n",
    "        sp = ((n_A-1)*var_A + (n_B-1)*var_B)/(n_A+n_B-2)\n",
    "        print(\"Pooled variance : \",sp)\n",
    "        se = sp*(n_A+n_B)/(n_A*n_B)\n",
    "        print(\"Standard Error : \",se)\n",
    "        t_stats = (mean_A-mean_B-delta)/math.sqrt(se)\n",
    "        print(\"Test Statistic value : \", t_stats)\n",
    "        df = n_A+n_B-2\n",
    "        df1 = n_A-1\n",
    "        df2 = n_B-1\n",
    "        print(\"Degree of freedom : \",df)\n",
    "        critical_value = stats.t.ppf(alpha, df=df)\n",
    "        print(\"Critical value : \",critical_value)\n",
    "        p_value = stats.t.cdf(t_stats, df=df)\n",
    "        print(\"P value : \",p_value)\n",
    "        confidence_level = 1-alpha/2\n",
    "        cv = stats.t.ppf(1 - alpha/2, df=df)\n",
    "        CI = (mean_A-mean_B-cv*se,mean_A-mean_B+cv*se)\n",
    "        print(\"Confidence Interval : \", CI)\n",
    "        if(p_value < alpha):\n",
    "            decision = \"Reject the null hypothesis.\"\n",
    "        else:\n",
    "            decision = \"Fail to reject the null hypothesis.\"\n",
    "        print(decision)\n",
    "    else:\n",
    "        se1 = (var_A/n_A)+(var_B/n_B)\n",
    "        se= math.sqrt(se1)\n",
    "        print(\"Standard Error : \",se)\n",
    "        t_stats = (mean_A-mean_B-delta)/se\n",
    "        print(\"Test Statistic value : \", t_stats)\n",
    "        df = n_A+n_B-2\n",
    "        df1 = n_A-1\n",
    "        df2 = n_B-1\n",
    "        print(\"Degree of freedom : \",df)\n",
    "        critical_value = stats.t.ppf(alpha, df=df)\n",
    "        print(\"Critical value : \",critical_value)\n",
    "        p_value = stats.t.cdf(t_stats, df=df)\n",
    "        print(\"P value : \",p_value)\n",
    "        vn = ((var_A/n_A)+(var_B/n_B))**2\n",
    "        vd = (((var_A/n_A)**2)/(n_A-1)+((var_B/n_B)**2)/(n_B-1))\n",
    "        v1 = vn/vd\n",
    "        v = round(v1) \n",
    "        print(\"Pooled Degree of freedom : \", v)\n",
    "        confidence_level = 1-alpha/2\n",
    "        cv = stats.t.ppf(1 - alpha/2, df=v)\n",
    "        CI = (mean_A-mean_B-cv*se,mean_A-mean_B+cv*se)\n",
    "        print(\"Confidence Interval : \", CI)\n",
    "        if(p_value < alpha):\n",
    "            decision = \"Reject the null hypothesis.\"\n",
    "        else:\n",
    "            decision = \"Fail to reject the null hypothesis.\"\n",
    "        print(decision)\n"
   ]
  },
  {
   "cell_type": "code",
   "execution_count": 29,
   "id": "085a2418",
   "metadata": {},
   "outputs": [
    {
     "name": "stdout",
     "output_type": "stream",
     "text": [
      "Standard Error :  2.9159518507398805\n",
      "Test Statistic value :  -0.9866702700423469\n",
      "Degree of freedom :  29\n",
      "Pooled Degree of freedom :  23\n",
      "Critical value :  2.045229642132703\n",
      "P value :  0.33407097840418754\n",
      "Confidence Interval :  (-8.40918898764854, 3.6550229876485414)\n",
      "Fail to reject the null hypothesis.\n"
     ]
    }
   ],
   "source": [
    "if H == 0:\n",
    "    if f0 < f_c:\n",
    "        sp = ((n_A-1)*var_A + (n_B-1)*var_B)/(n_A+n_B-2)\n",
    "        print(\"Pooled variance : \",sp)\n",
    "        se = sp*(n_A+n_B)/(n_A*n_B)\n",
    "        print(\"Standard Error : \",se)\n",
    "        t_stats = (mean_A-mean_B-delta)/math.sqrt(se)\n",
    "        print(\"Test Statistic value : \", t_stats)\n",
    "        df = n_A+n_B-2\n",
    "        df1 = n_A-1\n",
    "        df2 = n_B-1\n",
    "        print(\"Degree of freedom : \",df)\n",
    "        critical_value = stats.t.ppf(1-alpha/2, df=df)\n",
    "        print(\"Critical value : \",critical_value)\n",
    "        p_value = 2*(1-stats.t.cdf(abs(t_stats), df=df))\n",
    "        print(\"P value : \",p_value)\n",
    "        \n",
    "        confidence_level = 1-alpha/2\n",
    "        cv = stats.t.ppf(1 - alpha/2, df=df)\n",
    "        CI = (mean_A-mean_B-cv*se,mean_A-mean_B+cv*se)\n",
    "        print(\"Confidence Interval : \", CI)\n",
    "        if(p_value < alpha):\n",
    "            decision = \"Reject the null hypothesis.\"\n",
    "        else:\n",
    "            decision = \"Fail to reject the null hypothesis.\"\n",
    "        print(decision)\n",
    "    else:\n",
    "        se1 = (var_A/n_A)+(var_B/n_B)\n",
    "        se= math.sqrt(se1)\n",
    "        print(\"Standard Error : \",se)\n",
    "        t_stats = (mean_A-mean_B-delta)/se\n",
    "        print(\"Test Statistic value : \", t_stats)\n",
    "        df = n_A+n_B-2\n",
    "        df1 = n_A-1\n",
    "        df2 = n_B-1\n",
    "        print(\"Degree of freedom : \",df)\n",
    "        vn = ((var_A/n_A)+(var_B/n_B))**2\n",
    "        vd = (((var_A/n_A)**2)/(n_A-1)+((var_B/n_B)**2)/(n_B-1))\n",
    "        v1 = vn/vd\n",
    "        v = round(v1) \n",
    "        print(\"Pooled Degree of freedom : \", v)\n",
    "        critical_value = stats.t.ppf(1-alpha/2, df=df)\n",
    "        print(\"Critical value : \",critical_value)\n",
    "        p_value = 2*(1-stats.t.cdf(abs(t_stats), df=v))\n",
    "        print(\"P value : \",p_value)\n",
    "        confidence_level = 1-alpha/2\n",
    "        cv = stats.t.ppf(1 - alpha/2, df=v)\n",
    "        CI = (mean_A-mean_B-cv*se,mean_A-mean_B+cv*se)\n",
    "        print(\"Confidence Interval : \", CI)\n",
    "        if(p_value < alpha):\n",
    "            decision = \"Reject the null hypothesis.\"\n",
    "        else:\n",
    "            decision = \"Fail to reject the null hypothesis.\"\n",
    "        print(decision)\n"
   ]
  },
  {
   "cell_type": "code",
   "execution_count": null,
   "id": "44ad3e2b",
   "metadata": {},
   "outputs": [],
   "source": []
  }
 ],
 "metadata": {
  "kernelspec": {
   "display_name": "Python 3 (ipykernel)",
   "language": "python",
   "name": "python3"
  },
  "language_info": {
   "codemirror_mode": {
    "name": "ipython",
    "version": 3
   },
   "file_extension": ".py",
   "mimetype": "text/x-python",
   "name": "python",
   "nbconvert_exporter": "python",
   "pygments_lexer": "ipython3",
   "version": "3.10.9"
  }
 },
 "nbformat": 4,
 "nbformat_minor": 5
}
