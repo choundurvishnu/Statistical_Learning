{
 "cells": [
  {
   "cell_type": "code",
   "execution_count": 34,
   "id": "19215ea2",
   "metadata": {},
   "outputs": [],
   "source": [
    "import pandas as pd\n",
    "import math\n",
    "from sklearn.linear_model import LinearRegression\n",
    "import matplotlib.pyplot as plt"
   ]
  },
  {
   "cell_type": "code",
   "execution_count": 2,
   "id": "6ba94363",
   "metadata": {},
   "outputs": [
    {
     "data": {
      "text/html": [
       "<div>\n",
       "<style scoped>\n",
       "    .dataframe tbody tr th:only-of-type {\n",
       "        vertical-align: middle;\n",
       "    }\n",
       "\n",
       "    .dataframe tbody tr th {\n",
       "        vertical-align: top;\n",
       "    }\n",
       "\n",
       "    .dataframe thead th {\n",
       "        text-align: right;\n",
       "    }\n",
       "</style>\n",
       "<table border=\"1\" class=\"dataframe\">\n",
       "  <thead>\n",
       "    <tr style=\"text-align: right;\">\n",
       "      <th></th>\n",
       "      <th>ID</th>\n",
       "      <th>X</th>\n",
       "      <th>Y</th>\n",
       "    </tr>\n",
       "  </thead>\n",
       "  <tbody>\n",
       "    <tr>\n",
       "      <th>0</th>\n",
       "      <td>1</td>\n",
       "      <td>18</td>\n",
       "      <td>17</td>\n",
       "    </tr>\n",
       "    <tr>\n",
       "      <th>1</th>\n",
       "      <td>2</td>\n",
       "      <td>23</td>\n",
       "      <td>18</td>\n",
       "    </tr>\n",
       "    <tr>\n",
       "      <th>2</th>\n",
       "      <td>3</td>\n",
       "      <td>25</td>\n",
       "      <td>20</td>\n",
       "    </tr>\n",
       "    <tr>\n",
       "      <th>3</th>\n",
       "      <td>4</td>\n",
       "      <td>35</td>\n",
       "      <td>30</td>\n",
       "    </tr>\n",
       "    <tr>\n",
       "      <th>4</th>\n",
       "      <td>5</td>\n",
       "      <td>40</td>\n",
       "      <td>31</td>\n",
       "    </tr>\n",
       "    <tr>\n",
       "      <th>5</th>\n",
       "      <td>6</td>\n",
       "      <td>19</td>\n",
       "      <td>18</td>\n",
       "    </tr>\n",
       "    <tr>\n",
       "      <th>6</th>\n",
       "      <td>7</td>\n",
       "      <td>45</td>\n",
       "      <td>32</td>\n",
       "    </tr>\n",
       "    <tr>\n",
       "      <th>7</th>\n",
       "      <td>8</td>\n",
       "      <td>33</td>\n",
       "      <td>22</td>\n",
       "    </tr>\n",
       "    <tr>\n",
       "      <th>8</th>\n",
       "      <td>9</td>\n",
       "      <td>29</td>\n",
       "      <td>23</td>\n",
       "    </tr>\n",
       "    <tr>\n",
       "      <th>9</th>\n",
       "      <td>10</td>\n",
       "      <td>39</td>\n",
       "      <td>25</td>\n",
       "    </tr>\n",
       "  </tbody>\n",
       "</table>\n",
       "</div>"
      ],
      "text/plain": [
       "   ID   X   Y\n",
       "0   1  18  17\n",
       "1   2  23  18\n",
       "2   3  25  20\n",
       "3   4  35  30\n",
       "4   5  40  31\n",
       "5   6  19  18\n",
       "6   7  45  32\n",
       "7   8  33  22\n",
       "8   9  29  23\n",
       "9  10  39  25"
      ]
     },
     "execution_count": 2,
     "metadata": {},
     "output_type": "execute_result"
    }
   ],
   "source": [
    "# Load the CSV file\n",
    "file_path = 'C:/Users/choun/OneDrive/Desktop/simple_linear_Regression.csv'  # Replace with the path to your CSV file\n",
    "data = pd.read_csv(file_path)\n",
    "data\n"
   ]
  },
  {
   "cell_type": "code",
   "execution_count": 3,
   "id": "f3cf3d61",
   "metadata": {},
   "outputs": [
    {
     "data": {
      "text/html": [
       "<div>\n",
       "<style scoped>\n",
       "    .dataframe tbody tr th:only-of-type {\n",
       "        vertical-align: middle;\n",
       "    }\n",
       "\n",
       "    .dataframe tbody tr th {\n",
       "        vertical-align: top;\n",
       "    }\n",
       "\n",
       "    .dataframe thead th {\n",
       "        text-align: right;\n",
       "    }\n",
       "</style>\n",
       "<table border=\"1\" class=\"dataframe\">\n",
       "  <thead>\n",
       "    <tr style=\"text-align: right;\">\n",
       "      <th></th>\n",
       "      <th>ID</th>\n",
       "      <th>X</th>\n",
       "      <th>Y</th>\n",
       "      <th>X*Y</th>\n",
       "      <th>X^2</th>\n",
       "      <th>Y^2</th>\n",
       "      <th>X-X_mean</th>\n",
       "      <th>Y-Y_mean</th>\n",
       "      <th>(X-X_mean)^2</th>\n",
       "      <th>(Y-Y_mean)^2</th>\n",
       "      <th>(X-X_mean)*(Y-Y_mean)</th>\n",
       "    </tr>\n",
       "  </thead>\n",
       "  <tbody>\n",
       "    <tr>\n",
       "      <th>0</th>\n",
       "      <td>1</td>\n",
       "      <td>18</td>\n",
       "      <td>17</td>\n",
       "      <td>306</td>\n",
       "      <td>324</td>\n",
       "      <td>289</td>\n",
       "      <td>-12.6</td>\n",
       "      <td>-6.6</td>\n",
       "      <td>158.76</td>\n",
       "      <td>43.56</td>\n",
       "      <td>83.16</td>\n",
       "    </tr>\n",
       "    <tr>\n",
       "      <th>1</th>\n",
       "      <td>2</td>\n",
       "      <td>23</td>\n",
       "      <td>18</td>\n",
       "      <td>414</td>\n",
       "      <td>529</td>\n",
       "      <td>324</td>\n",
       "      <td>-7.6</td>\n",
       "      <td>-5.6</td>\n",
       "      <td>57.76</td>\n",
       "      <td>31.36</td>\n",
       "      <td>42.56</td>\n",
       "    </tr>\n",
       "    <tr>\n",
       "      <th>2</th>\n",
       "      <td>3</td>\n",
       "      <td>25</td>\n",
       "      <td>20</td>\n",
       "      <td>500</td>\n",
       "      <td>625</td>\n",
       "      <td>400</td>\n",
       "      <td>-5.6</td>\n",
       "      <td>-3.6</td>\n",
       "      <td>31.36</td>\n",
       "      <td>12.96</td>\n",
       "      <td>20.16</td>\n",
       "    </tr>\n",
       "    <tr>\n",
       "      <th>3</th>\n",
       "      <td>4</td>\n",
       "      <td>35</td>\n",
       "      <td>30</td>\n",
       "      <td>1050</td>\n",
       "      <td>1225</td>\n",
       "      <td>900</td>\n",
       "      <td>4.4</td>\n",
       "      <td>6.4</td>\n",
       "      <td>19.36</td>\n",
       "      <td>40.96</td>\n",
       "      <td>28.16</td>\n",
       "    </tr>\n",
       "    <tr>\n",
       "      <th>4</th>\n",
       "      <td>5</td>\n",
       "      <td>40</td>\n",
       "      <td>31</td>\n",
       "      <td>1240</td>\n",
       "      <td>1600</td>\n",
       "      <td>961</td>\n",
       "      <td>9.4</td>\n",
       "      <td>7.4</td>\n",
       "      <td>88.36</td>\n",
       "      <td>54.76</td>\n",
       "      <td>69.56</td>\n",
       "    </tr>\n",
       "    <tr>\n",
       "      <th>5</th>\n",
       "      <td>6</td>\n",
       "      <td>19</td>\n",
       "      <td>18</td>\n",
       "      <td>342</td>\n",
       "      <td>361</td>\n",
       "      <td>324</td>\n",
       "      <td>-11.6</td>\n",
       "      <td>-5.6</td>\n",
       "      <td>134.56</td>\n",
       "      <td>31.36</td>\n",
       "      <td>64.96</td>\n",
       "    </tr>\n",
       "    <tr>\n",
       "      <th>6</th>\n",
       "      <td>7</td>\n",
       "      <td>45</td>\n",
       "      <td>32</td>\n",
       "      <td>1440</td>\n",
       "      <td>2025</td>\n",
       "      <td>1024</td>\n",
       "      <td>14.4</td>\n",
       "      <td>8.4</td>\n",
       "      <td>207.36</td>\n",
       "      <td>70.56</td>\n",
       "      <td>120.96</td>\n",
       "    </tr>\n",
       "    <tr>\n",
       "      <th>7</th>\n",
       "      <td>8</td>\n",
       "      <td>33</td>\n",
       "      <td>22</td>\n",
       "      <td>726</td>\n",
       "      <td>1089</td>\n",
       "      <td>484</td>\n",
       "      <td>2.4</td>\n",
       "      <td>-1.6</td>\n",
       "      <td>5.76</td>\n",
       "      <td>2.56</td>\n",
       "      <td>-3.84</td>\n",
       "    </tr>\n",
       "    <tr>\n",
       "      <th>8</th>\n",
       "      <td>9</td>\n",
       "      <td>29</td>\n",
       "      <td>23</td>\n",
       "      <td>667</td>\n",
       "      <td>841</td>\n",
       "      <td>529</td>\n",
       "      <td>-1.6</td>\n",
       "      <td>-0.6</td>\n",
       "      <td>2.56</td>\n",
       "      <td>0.36</td>\n",
       "      <td>0.96</td>\n",
       "    </tr>\n",
       "    <tr>\n",
       "      <th>9</th>\n",
       "      <td>10</td>\n",
       "      <td>39</td>\n",
       "      <td>25</td>\n",
       "      <td>975</td>\n",
       "      <td>1521</td>\n",
       "      <td>625</td>\n",
       "      <td>8.4</td>\n",
       "      <td>1.4</td>\n",
       "      <td>70.56</td>\n",
       "      <td>1.96</td>\n",
       "      <td>11.76</td>\n",
       "    </tr>\n",
       "  </tbody>\n",
       "</table>\n",
       "</div>"
      ],
      "text/plain": [
       "   ID   X   Y   X*Y   X^2   Y^2  X-X_mean  Y-Y_mean  (X-X_mean)^2  \\\n",
       "0   1  18  17   306   324   289     -12.6      -6.6        158.76   \n",
       "1   2  23  18   414   529   324      -7.6      -5.6         57.76   \n",
       "2   3  25  20   500   625   400      -5.6      -3.6         31.36   \n",
       "3   4  35  30  1050  1225   900       4.4       6.4         19.36   \n",
       "4   5  40  31  1240  1600   961       9.4       7.4         88.36   \n",
       "5   6  19  18   342   361   324     -11.6      -5.6        134.56   \n",
       "6   7  45  32  1440  2025  1024      14.4       8.4        207.36   \n",
       "7   8  33  22   726  1089   484       2.4      -1.6          5.76   \n",
       "8   9  29  23   667   841   529      -1.6      -0.6          2.56   \n",
       "9  10  39  25   975  1521   625       8.4       1.4         70.56   \n",
       "\n",
       "   (Y-Y_mean)^2  (X-X_mean)*(Y-Y_mean)  \n",
       "0         43.56                  83.16  \n",
       "1         31.36                  42.56  \n",
       "2         12.96                  20.16  \n",
       "3         40.96                  28.16  \n",
       "4         54.76                  69.56  \n",
       "5         31.36                  64.96  \n",
       "6         70.56                 120.96  \n",
       "7          2.56                  -3.84  \n",
       "8          0.36                   0.96  \n",
       "9          1.96                  11.76  "
      ]
     },
     "execution_count": 3,
     "metadata": {},
     "output_type": "execute_result"
    }
   ],
   "source": [
    "# Assuming your CSV file has columns named 'X' and 'Y', you can create new columns as follows\n",
    "data['X*Y'] = data['X'] * data['Y']\n",
    "data['X^2'] = data['X'] ** 2\n",
    "data['Y^2'] = data['Y'] ** 2\n",
    "data['X-X_mean'] = data['X']-data['X'].mean()\n",
    "data['Y-Y_mean'] = data['Y']-data['Y'].mean()\n",
    "data['(X-X_mean)^2'] = data['X-X_mean'] ** 2\n",
    "data['(Y-Y_mean)^2'] = data['Y-Y_mean'] ** 2\n",
    "data['(X-X_mean)*(Y-Y_mean)'] = data['X-X_mean']*data['Y-Y_mean']\n",
    "\n",
    "data\n"
   ]
  },
  {
   "cell_type": "code",
   "execution_count": 4,
   "id": "f7ceb68f",
   "metadata": {},
   "outputs": [
    {
     "name": "stdout",
     "output_type": "stream",
     "text": [
      "SS_X :  776.4\n",
      "SS_Y :  290.4\n",
      "SS_XY :  438.3999999999999\n",
      " Correlation r :  0.9232715985420366\n",
      " Beta 1 :  0.564657393096342\n",
      " Beta 0 :  6.321483771251934\n"
     ]
    }
   ],
   "source": [
    "SS_X = data['(X-X_mean)^2'].sum()\n",
    "SS_Y = data['(Y-Y_mean)^2'].sum()\n",
    "SS_XY = data['(X-X_mean)*(Y-Y_mean)'].sum()\n",
    "print(\"SS_X : \",SS_X)\n",
    "print(\"SS_Y : \",SS_Y)\n",
    "print(\"SS_XY : \",SS_XY)\n",
    "pr = SS_XY/math.sqrt(SS_X*SS_Y)\n",
    "print(\" Correlation r : \",pr)\n",
    "b1 = pr*math.sqrt(SS_Y/SS_X)\n",
    "print(\" Beta 1 : \", b1)\n",
    "b0 = data['Y'].mean() - b1 * data['X'].mean()\n",
    "print(\" Beta 0 : \",b0)"
   ]
  },
  {
   "cell_type": "code",
   "execution_count": null,
   "id": "845080dc",
   "metadata": {},
   "outputs": [],
   "source": []
  },
  {
   "cell_type": "code",
   "execution_count": 5,
   "id": "afaa4291",
   "metadata": {},
   "outputs": [
    {
     "data": {
      "text/html": [
       "<div>\n",
       "<style scoped>\n",
       "    .dataframe tbody tr th:only-of-type {\n",
       "        vertical-align: middle;\n",
       "    }\n",
       "\n",
       "    .dataframe tbody tr th {\n",
       "        vertical-align: top;\n",
       "    }\n",
       "\n",
       "    .dataframe thead th {\n",
       "        text-align: right;\n",
       "    }\n",
       "</style>\n",
       "<table border=\"1\" class=\"dataframe\">\n",
       "  <thead>\n",
       "    <tr style=\"text-align: right;\">\n",
       "      <th></th>\n",
       "      <th>ID</th>\n",
       "      <th>X</th>\n",
       "      <th>Y</th>\n",
       "      <th>X*Y</th>\n",
       "      <th>X^2</th>\n",
       "      <th>Y^2</th>\n",
       "      <th>X-X_mean</th>\n",
       "      <th>Y-Y_mean</th>\n",
       "      <th>(X-X_mean)^2</th>\n",
       "      <th>(Y-Y_mean)^2</th>\n",
       "      <th>(X-X_mean)*(Y-Y_mean)</th>\n",
       "    </tr>\n",
       "  </thead>\n",
       "  <tbody>\n",
       "    <tr>\n",
       "      <th>0</th>\n",
       "      <td>1</td>\n",
       "      <td>18</td>\n",
       "      <td>17</td>\n",
       "      <td>306</td>\n",
       "      <td>324</td>\n",
       "      <td>289</td>\n",
       "      <td>-12.6</td>\n",
       "      <td>-6.6</td>\n",
       "      <td>158.76</td>\n",
       "      <td>43.56</td>\n",
       "      <td>83.16</td>\n",
       "    </tr>\n",
       "    <tr>\n",
       "      <th>1</th>\n",
       "      <td>2</td>\n",
       "      <td>23</td>\n",
       "      <td>18</td>\n",
       "      <td>414</td>\n",
       "      <td>529</td>\n",
       "      <td>324</td>\n",
       "      <td>-7.6</td>\n",
       "      <td>-5.6</td>\n",
       "      <td>57.76</td>\n",
       "      <td>31.36</td>\n",
       "      <td>42.56</td>\n",
       "    </tr>\n",
       "    <tr>\n",
       "      <th>2</th>\n",
       "      <td>3</td>\n",
       "      <td>25</td>\n",
       "      <td>20</td>\n",
       "      <td>500</td>\n",
       "      <td>625</td>\n",
       "      <td>400</td>\n",
       "      <td>-5.6</td>\n",
       "      <td>-3.6</td>\n",
       "      <td>31.36</td>\n",
       "      <td>12.96</td>\n",
       "      <td>20.16</td>\n",
       "    </tr>\n",
       "    <tr>\n",
       "      <th>3</th>\n",
       "      <td>4</td>\n",
       "      <td>35</td>\n",
       "      <td>30</td>\n",
       "      <td>1050</td>\n",
       "      <td>1225</td>\n",
       "      <td>900</td>\n",
       "      <td>4.4</td>\n",
       "      <td>6.4</td>\n",
       "      <td>19.36</td>\n",
       "      <td>40.96</td>\n",
       "      <td>28.16</td>\n",
       "    </tr>\n",
       "    <tr>\n",
       "      <th>4</th>\n",
       "      <td>5</td>\n",
       "      <td>40</td>\n",
       "      <td>31</td>\n",
       "      <td>1240</td>\n",
       "      <td>1600</td>\n",
       "      <td>961</td>\n",
       "      <td>9.4</td>\n",
       "      <td>7.4</td>\n",
       "      <td>88.36</td>\n",
       "      <td>54.76</td>\n",
       "      <td>69.56</td>\n",
       "    </tr>\n",
       "    <tr>\n",
       "      <th>5</th>\n",
       "      <td>6</td>\n",
       "      <td>19</td>\n",
       "      <td>18</td>\n",
       "      <td>342</td>\n",
       "      <td>361</td>\n",
       "      <td>324</td>\n",
       "      <td>-11.6</td>\n",
       "      <td>-5.6</td>\n",
       "      <td>134.56</td>\n",
       "      <td>31.36</td>\n",
       "      <td>64.96</td>\n",
       "    </tr>\n",
       "    <tr>\n",
       "      <th>6</th>\n",
       "      <td>7</td>\n",
       "      <td>45</td>\n",
       "      <td>32</td>\n",
       "      <td>1440</td>\n",
       "      <td>2025</td>\n",
       "      <td>1024</td>\n",
       "      <td>14.4</td>\n",
       "      <td>8.4</td>\n",
       "      <td>207.36</td>\n",
       "      <td>70.56</td>\n",
       "      <td>120.96</td>\n",
       "    </tr>\n",
       "    <tr>\n",
       "      <th>7</th>\n",
       "      <td>8</td>\n",
       "      <td>33</td>\n",
       "      <td>22</td>\n",
       "      <td>726</td>\n",
       "      <td>1089</td>\n",
       "      <td>484</td>\n",
       "      <td>2.4</td>\n",
       "      <td>-1.6</td>\n",
       "      <td>5.76</td>\n",
       "      <td>2.56</td>\n",
       "      <td>-3.84</td>\n",
       "    </tr>\n",
       "    <tr>\n",
       "      <th>8</th>\n",
       "      <td>9</td>\n",
       "      <td>29</td>\n",
       "      <td>23</td>\n",
       "      <td>667</td>\n",
       "      <td>841</td>\n",
       "      <td>529</td>\n",
       "      <td>-1.6</td>\n",
       "      <td>-0.6</td>\n",
       "      <td>2.56</td>\n",
       "      <td>0.36</td>\n",
       "      <td>0.96</td>\n",
       "    </tr>\n",
       "    <tr>\n",
       "      <th>9</th>\n",
       "      <td>10</td>\n",
       "      <td>39</td>\n",
       "      <td>25</td>\n",
       "      <td>975</td>\n",
       "      <td>1521</td>\n",
       "      <td>625</td>\n",
       "      <td>8.4</td>\n",
       "      <td>1.4</td>\n",
       "      <td>70.56</td>\n",
       "      <td>1.96</td>\n",
       "      <td>11.76</td>\n",
       "    </tr>\n",
       "  </tbody>\n",
       "</table>\n",
       "</div>"
      ],
      "text/plain": [
       "   ID   X   Y   X*Y   X^2   Y^2  X-X_mean  Y-Y_mean  (X-X_mean)^2  \\\n",
       "0   1  18  17   306   324   289     -12.6      -6.6        158.76   \n",
       "1   2  23  18   414   529   324      -7.6      -5.6         57.76   \n",
       "2   3  25  20   500   625   400      -5.6      -3.6         31.36   \n",
       "3   4  35  30  1050  1225   900       4.4       6.4         19.36   \n",
       "4   5  40  31  1240  1600   961       9.4       7.4         88.36   \n",
       "5   6  19  18   342   361   324     -11.6      -5.6        134.56   \n",
       "6   7  45  32  1440  2025  1024      14.4       8.4        207.36   \n",
       "7   8  33  22   726  1089   484       2.4      -1.6          5.76   \n",
       "8   9  29  23   667   841   529      -1.6      -0.6          2.56   \n",
       "9  10  39  25   975  1521   625       8.4       1.4         70.56   \n",
       "\n",
       "   (Y-Y_mean)^2  (X-X_mean)*(Y-Y_mean)  \n",
       "0         43.56                  83.16  \n",
       "1         31.36                  42.56  \n",
       "2         12.96                  20.16  \n",
       "3         40.96                  28.16  \n",
       "4         54.76                  69.56  \n",
       "5         31.36                  64.96  \n",
       "6         70.56                 120.96  \n",
       "7          2.56                  -3.84  \n",
       "8          0.36                   0.96  \n",
       "9          1.96                  11.76  "
      ]
     },
     "execution_count": 5,
     "metadata": {},
     "output_type": "execute_result"
    }
   ],
   "source": [
    "data"
   ]
  },
  {
   "cell_type": "code",
   "execution_count": 6,
   "id": "f928ff4d",
   "metadata": {},
   "outputs": [
    {
     "data": {
      "text/html": [
       "<div>\n",
       "<style scoped>\n",
       "    .dataframe tbody tr th:only-of-type {\n",
       "        vertical-align: middle;\n",
       "    }\n",
       "\n",
       "    .dataframe tbody tr th {\n",
       "        vertical-align: top;\n",
       "    }\n",
       "\n",
       "    .dataframe thead th {\n",
       "        text-align: right;\n",
       "    }\n",
       "</style>\n",
       "<table border=\"1\" class=\"dataframe\">\n",
       "  <thead>\n",
       "    <tr style=\"text-align: right;\">\n",
       "      <th></th>\n",
       "      <th>ID</th>\n",
       "      <th>X</th>\n",
       "      <th>Y</th>\n",
       "      <th>X*Y</th>\n",
       "      <th>X^2</th>\n",
       "      <th>Y^2</th>\n",
       "      <th>X-X_mean</th>\n",
       "      <th>Y-Y_mean</th>\n",
       "      <th>(X-X_mean)^2</th>\n",
       "      <th>(Y-Y_mean)^2</th>\n",
       "      <th>(X-X_mean)*(Y-Y_mean)</th>\n",
       "    </tr>\n",
       "  </thead>\n",
       "  <tbody>\n",
       "    <tr>\n",
       "      <th>count</th>\n",
       "      <td>10.00000</td>\n",
       "      <td>10.000000</td>\n",
       "      <td>10.000000</td>\n",
       "      <td>10.000000</td>\n",
       "      <td>10.000000</td>\n",
       "      <td>10.0000</td>\n",
       "      <td>1.000000e+01</td>\n",
       "      <td>1.000000e+01</td>\n",
       "      <td>10.000000</td>\n",
       "      <td>10.000000</td>\n",
       "      <td>10.000000</td>\n",
       "    </tr>\n",
       "    <tr>\n",
       "      <th>mean</th>\n",
       "      <td>5.50000</td>\n",
       "      <td>30.600000</td>\n",
       "      <td>23.600000</td>\n",
       "      <td>766.000000</td>\n",
       "      <td>1014.000000</td>\n",
       "      <td>586.0000</td>\n",
       "      <td>-1.421085e-15</td>\n",
       "      <td>-1.421085e-15</td>\n",
       "      <td>77.640000</td>\n",
       "      <td>29.040000</td>\n",
       "      <td>43.840000</td>\n",
       "    </tr>\n",
       "    <tr>\n",
       "      <th>std</th>\n",
       "      <td>3.02765</td>\n",
       "      <td>9.287985</td>\n",
       "      <td>5.680376</td>\n",
       "      <td>394.507569</td>\n",
       "      <td>576.550663</td>\n",
       "      <td>280.1452</td>\n",
       "      <td>9.287985e+00</td>\n",
       "      <td>5.680376e+00</td>\n",
       "      <td>69.562135</td>\n",
       "      <td>24.186167</td>\n",
       "      <td>40.208589</td>\n",
       "    </tr>\n",
       "    <tr>\n",
       "      <th>min</th>\n",
       "      <td>1.00000</td>\n",
       "      <td>18.000000</td>\n",
       "      <td>17.000000</td>\n",
       "      <td>306.000000</td>\n",
       "      <td>324.000000</td>\n",
       "      <td>289.0000</td>\n",
       "      <td>-1.260000e+01</td>\n",
       "      <td>-6.600000e+00</td>\n",
       "      <td>2.560000</td>\n",
       "      <td>0.360000</td>\n",
       "      <td>-3.840000</td>\n",
       "    </tr>\n",
       "    <tr>\n",
       "      <th>25%</th>\n",
       "      <td>3.25000</td>\n",
       "      <td>23.500000</td>\n",
       "      <td>18.500000</td>\n",
       "      <td>435.500000</td>\n",
       "      <td>553.000000</td>\n",
       "      <td>343.0000</td>\n",
       "      <td>-7.100000e+00</td>\n",
       "      <td>-5.100000e+00</td>\n",
       "      <td>22.360000</td>\n",
       "      <td>5.160000</td>\n",
       "      <td>13.860000</td>\n",
       "    </tr>\n",
       "    <tr>\n",
       "      <th>50%</th>\n",
       "      <td>5.50000</td>\n",
       "      <td>31.000000</td>\n",
       "      <td>22.500000</td>\n",
       "      <td>696.500000</td>\n",
       "      <td>965.000000</td>\n",
       "      <td>506.5000</td>\n",
       "      <td>4.000000e-01</td>\n",
       "      <td>-1.100000e+00</td>\n",
       "      <td>64.160000</td>\n",
       "      <td>31.360000</td>\n",
       "      <td>35.360000</td>\n",
       "    </tr>\n",
       "    <tr>\n",
       "      <th>75%</th>\n",
       "      <td>7.75000</td>\n",
       "      <td>38.000000</td>\n",
       "      <td>28.750000</td>\n",
       "      <td>1031.250000</td>\n",
       "      <td>1447.000000</td>\n",
       "      <td>831.2500</td>\n",
       "      <td>7.400000e+00</td>\n",
       "      <td>5.150000e+00</td>\n",
       "      <td>123.010000</td>\n",
       "      <td>42.910000</td>\n",
       "      <td>68.410000</td>\n",
       "    </tr>\n",
       "    <tr>\n",
       "      <th>max</th>\n",
       "      <td>10.00000</td>\n",
       "      <td>45.000000</td>\n",
       "      <td>32.000000</td>\n",
       "      <td>1440.000000</td>\n",
       "      <td>2025.000000</td>\n",
       "      <td>1024.0000</td>\n",
       "      <td>1.440000e+01</td>\n",
       "      <td>8.400000e+00</td>\n",
       "      <td>207.360000</td>\n",
       "      <td>70.560000</td>\n",
       "      <td>120.960000</td>\n",
       "    </tr>\n",
       "  </tbody>\n",
       "</table>\n",
       "</div>"
      ],
      "text/plain": [
       "             ID          X          Y          X*Y          X^2        Y^2  \\\n",
       "count  10.00000  10.000000  10.000000    10.000000    10.000000    10.0000   \n",
       "mean    5.50000  30.600000  23.600000   766.000000  1014.000000   586.0000   \n",
       "std     3.02765   9.287985   5.680376   394.507569   576.550663   280.1452   \n",
       "min     1.00000  18.000000  17.000000   306.000000   324.000000   289.0000   \n",
       "25%     3.25000  23.500000  18.500000   435.500000   553.000000   343.0000   \n",
       "50%     5.50000  31.000000  22.500000   696.500000   965.000000   506.5000   \n",
       "75%     7.75000  38.000000  28.750000  1031.250000  1447.000000   831.2500   \n",
       "max    10.00000  45.000000  32.000000  1440.000000  2025.000000  1024.0000   \n",
       "\n",
       "           X-X_mean      Y-Y_mean  (X-X_mean)^2  (Y-Y_mean)^2  \\\n",
       "count  1.000000e+01  1.000000e+01     10.000000     10.000000   \n",
       "mean  -1.421085e-15 -1.421085e-15     77.640000     29.040000   \n",
       "std    9.287985e+00  5.680376e+00     69.562135     24.186167   \n",
       "min   -1.260000e+01 -6.600000e+00      2.560000      0.360000   \n",
       "25%   -7.100000e+00 -5.100000e+00     22.360000      5.160000   \n",
       "50%    4.000000e-01 -1.100000e+00     64.160000     31.360000   \n",
       "75%    7.400000e+00  5.150000e+00    123.010000     42.910000   \n",
       "max    1.440000e+01  8.400000e+00    207.360000     70.560000   \n",
       "\n",
       "       (X-X_mean)*(Y-Y_mean)  \n",
       "count              10.000000  \n",
       "mean               43.840000  \n",
       "std                40.208589  \n",
       "min                -3.840000  \n",
       "25%                13.860000  \n",
       "50%                35.360000  \n",
       "75%                68.410000  \n",
       "max               120.960000  "
      ]
     },
     "execution_count": 6,
     "metadata": {},
     "output_type": "execute_result"
    }
   ],
   "source": [
    "data.describe()"
   ]
  },
  {
   "cell_type": "code",
   "execution_count": 7,
   "id": "2995bb1d",
   "metadata": {},
   "outputs": [
    {
     "data": {
      "text/plain": [
       "ID                       5.500000e+01\n",
       "X                        3.060000e+02\n",
       "Y                        2.360000e+02\n",
       "X*Y                      7.660000e+03\n",
       "X^2                      1.014000e+04\n",
       "Y^2                      5.860000e+03\n",
       "X-X_mean                -1.421085e-14\n",
       "Y-Y_mean                -1.421085e-14\n",
       "(X-X_mean)^2             7.764000e+02\n",
       "(Y-Y_mean)^2             2.904000e+02\n",
       "(X-X_mean)*(Y-Y_mean)    4.384000e+02\n",
       "dtype: float64"
      ]
     },
     "execution_count": 7,
     "metadata": {},
     "output_type": "execute_result"
    }
   ],
   "source": [
    "data.sum()"
   ]
  },
  {
   "cell_type": "code",
   "execution_count": 8,
   "id": "662b5c87",
   "metadata": {},
   "outputs": [
    {
     "data": {
      "text/plain": [
       "0.9232715985420368"
      ]
     },
     "execution_count": 8,
     "metadata": {},
     "output_type": "execute_result"
    }
   ],
   "source": [
    "correlation_coefficient = data['X'].corr(data['Y'])\n",
    "correlation_coefficient"
   ]
  },
  {
   "cell_type": "code",
   "execution_count": 9,
   "id": "4875506e",
   "metadata": {},
   "outputs": [
    {
     "name": "stdout",
     "output_type": "stream",
     "text": [
      "There is a positive correlation between X and Y.\n"
     ]
    }
   ],
   "source": [
    "if correlation_coefficient > 0:\n",
    "    interpretation = \"There is a positive correlation between X and Y.\"\n",
    "elif correlation_coefficient < 0:\n",
    "    interpretation = \"There is a negative correlation between X and Y.\"\n",
    "else:\n",
    "    interpretation = \"There is no linear correlation between X and Y.\"\n",
    "print(interpretation)"
   ]
  },
  {
   "cell_type": "code",
   "execution_count": 10,
   "id": "7db02ee4",
   "metadata": {},
   "outputs": [
    {
     "name": "stdout",
     "output_type": "stream",
     "text": [
      "There is a strong correlation\n"
     ]
    }
   ],
   "source": [
    "if (abs(correlation_coefficient) > 0) & (abs(correlation_coefficient) < 0.3):\n",
    "    inter = \"There is a weak correlation\"\n",
    "elif (abs(correlation_coefficient) >= 0.3) & (abs(correlation_coefficient) < 0.7):\n",
    "    inter = \"There is a moderate correlation\"\n",
    "elif (abs(correlation_coefficient) >= 0.7) & (abs(correlation_coefficient) <= 1) :\n",
    "    inter = \"There is a strong correlation\"\n",
    "print(inter)"
   ]
  },
  {
   "cell_type": "markdown",
   "id": "8fd10eed",
   "metadata": {},
   "source": [
    "## Please test if the correlation coefficient is different from zero"
   ]
  },
  {
   "cell_type": "code",
   "execution_count": 11,
   "id": "9d2a6387",
   "metadata": {},
   "outputs": [],
   "source": [
    "import pandas as pd\n",
    "import numpy as np\n",
    "from scipy import stats\n",
    "import math\n"
   ]
  },
  {
   "cell_type": "code",
   "execution_count": 12,
   "id": "c4db0a0f",
   "metadata": {},
   "outputs": [
    {
     "data": {
      "text/plain": [
       "0    17\n",
       "1    18\n",
       "2    20\n",
       "3    30\n",
       "4    31\n",
       "5    18\n",
       "6    32\n",
       "7    22\n",
       "8    23\n",
       "9    25\n",
       "Name: Y, dtype: int64"
      ]
     },
     "execution_count": 12,
     "metadata": {},
     "output_type": "execute_result"
    }
   ],
   "source": [
    "data['Y']"
   ]
  },
  {
   "cell_type": "code",
   "execution_count": 13,
   "id": "8abe8b74",
   "metadata": {},
   "outputs": [
    {
     "name": "stdout",
     "output_type": "stream",
     "text": [
      "Correlation Coefficient :  0.9232715985420368\n",
      "P value :  0.00013811582902178854\n"
     ]
    }
   ],
   "source": [
    "# Calculate the Pearson correlation coefficient and p-value\n",
    "correlation_coefficient, p_value = stats.pearsonr(data['X'], data['Y'])\n",
    "r = correlation_coefficient\n",
    "print(\"Correlation Coefficient : \",correlation_coefficient)\n",
    "print(\"P value : \",p_value)"
   ]
  },
  {
   "cell_type": "code",
   "execution_count": 14,
   "id": "7208cb55",
   "metadata": {},
   "outputs": [],
   "source": [
    "# Define the significance level (alpha)\n",
    "alpha = 0.05"
   ]
  },
  {
   "cell_type": "code",
   "execution_count": 15,
   "id": "38b4afed",
   "metadata": {},
   "outputs": [
    {
     "name": "stdout",
     "output_type": "stream",
     "text": [
      "Degree of Freedom :  8\n"
     ]
    }
   ],
   "source": [
    "# Calculate the critical values for a two-tailed test\n",
    "n = len(data['X'])\n",
    "dof = n - 2\n",
    "print(\"Degree of Freedom : \",dof)"
   ]
  },
  {
   "cell_type": "code",
   "execution_count": 16,
   "id": "7b90146a",
   "metadata": {},
   "outputs": [
    {
     "name": "stdout",
     "output_type": "stream",
     "text": [
      "Test statistic Value :  6.79792056235646\n"
     ]
    }
   ],
   "source": [
    "t = r/(math.sqrt((1- (r ** 2))/(n-2)))\n",
    "print(\"Test statistic Value : \",t)"
   ]
  },
  {
   "cell_type": "code",
   "execution_count": 17,
   "id": "1bf56190",
   "metadata": {},
   "outputs": [
    {
     "name": "stdout",
     "output_type": "stream",
     "text": [
      "P value :  0.00013811582902178854\n"
     ]
    }
   ],
   "source": [
    "# Calculate the p-value for a two-tailed t-test\n",
    "p_value = stats.t.sf(abs(t), df=dof) * 2\n",
    "print(\"P value : \",p_value)"
   ]
  },
  {
   "cell_type": "code",
   "execution_count": 18,
   "id": "6942734b",
   "metadata": {},
   "outputs": [
    {
     "name": "stdout",
     "output_type": "stream",
     "text": [
      "F value :  3.438101233373157\n"
     ]
    }
   ],
   "source": [
    "# Calculate the F-value for a one-tailed F-test (right-tailed)\n",
    "f = stats.f.ppf(1 - alpha, dof, dof)\n",
    "print(\"F value : \",f)"
   ]
  },
  {
   "cell_type": "code",
   "execution_count": 19,
   "id": "61179fad",
   "metadata": {},
   "outputs": [
    {
     "name": "stdout",
     "output_type": "stream",
     "text": [
      " Lower limit :  0.7587641753900293 \n",
      " Upper Limit :  0.9770587829409226\n"
     ]
    }
   ],
   "source": [
    "LL = ((1+f)*r + (1-f))/((1+f) + (1-f)*r)\n",
    "UL = ((1+f)*r - (1-f))/((1+f) - (1-f)*r)\n",
    "print(\" Lower limit : \",LL,\"\\n Upper Limit : \",UL)"
   ]
  },
  {
   "cell_type": "code",
   "execution_count": 20,
   "id": "f777e229",
   "metadata": {},
   "outputs": [
    {
     "name": "stdout",
     "output_type": "stream",
     "text": [
      "-2.306004135033371 2.3060041350333704\n"
     ]
    }
   ],
   "source": [
    "critical_value_lower = stats.t.ppf(alpha / 2, df=dof)\n",
    "critical_value_upper = stats.t.ppf(1 - alpha / 2, df=dof)\n",
    "print(critical_value_lower,critical_value_upper)"
   ]
  },
  {
   "cell_type": "code",
   "execution_count": 21,
   "id": "21f7e949",
   "metadata": {},
   "outputs": [
    {
     "name": "stdout",
     "output_type": "stream",
     "text": [
      "The correlation is statistically significant. The correlation coefficient is different from the zero\n"
     ]
    }
   ],
   "source": [
    "# Interpretation based on p-value and critical values\n",
    "if p_value < alpha:\n",
    "    interpretation_p_value = \"The correlation is statistically significant. The correlation coefficient is different from the zero\"\n",
    "else:\n",
    "    interpretation_p_value = \"The correlation is not statistically significant. The correlation coefficient is equal to zero\"\n",
    "print(interpretation_p_value)"
   ]
  },
  {
   "cell_type": "code",
   "execution_count": 22,
   "id": "e86d80d0",
   "metadata": {},
   "outputs": [
    {
     "name": "stdout",
     "output_type": "stream",
     "text": [
      "The correlation is statistically significant. The correlation coefficient is different from the zero\n"
     ]
    }
   ],
   "source": [
    "# Interpretation based on p-value and critical values\n",
    "if (LL > r) | (UL > r):\n",
    "    interpretation_p_value = \"The correlation is statistically significant. The correlation coefficient is different from the zero\"\n",
    "else:\n",
    "    interpretation_p_value = \"The correlation is not statistically significant. The correlation coefficient is equal to zero\"\n",
    "print(interpretation_p_value)"
   ]
  },
  {
   "cell_type": "markdown",
   "id": "7863ca14",
   "metadata": {},
   "source": [
    "## Calculate  β_1 and  β_0"
   ]
  },
  {
   "cell_type": "code",
   "execution_count": 23,
   "id": "f0b3b7e7",
   "metadata": {},
   "outputs": [],
   "source": [
    "# Calculate the coefficients (β0 and β1) of the linear regression model\n",
    "X = data['X']\n",
    "Y = data['Y']"
   ]
  },
  {
   "cell_type": "code",
   "execution_count": 24,
   "id": "346932d2",
   "metadata": {},
   "outputs": [
    {
     "name": "stdout",
     "output_type": "stream",
     "text": [
      "Coefficient β1 (slope): 0.564657393096342\n",
      "Coefficient β0 (intercept): 6.321483771251934\n"
     ]
    }
   ],
   "source": [
    "# Calculate β1 (slope)\n",
    "mean_X = X.mean()\n",
    "mean_Y = Y.mean()\n",
    "\n",
    "numerator = ((X - mean_X) * (Y - mean_Y)).sum()\n",
    "denominator = ((X - mean_X) ** 2).sum()\n",
    "beta_1 = numerator / denominator\n",
    "\n",
    "# Calculate β0 (intercept)\n",
    "beta_0 = mean_Y - beta_1 * mean_X\n",
    "\n",
    "# Display the results\n",
    "print(\"Coefficient β1 (slope):\", beta_1)\n",
    "print(\"Coefficient β0 (intercept):\", beta_0)"
   ]
  },
  {
   "cell_type": "markdown",
   "id": "d4fe7e4d",
   "metadata": {},
   "source": [
    "## test whether β_1 is significantly different from 0"
   ]
  },
  {
   "cell_type": "code",
   "execution_count": 25,
   "id": "6e0af26d",
   "metadata": {},
   "outputs": [],
   "source": [
    "alpha = 0.05 "
   ]
  },
  {
   "cell_type": "code",
   "execution_count": 26,
   "id": "df2ec6bb",
   "metadata": {},
   "outputs": [
    {
     "name": "stdout",
     "output_type": "stream",
     "text": [
      " Test statistic :  6.797920562356452\n",
      " Degree of Freedom :  8\n"
     ]
    }
   ],
   "source": [
    "n = len(X)\n",
    "standard_error = np.sqrt(((Y - (beta_0 + beta_1 * X)) ** 2).sum() / (n - 2)) / np.sqrt(((X - mean_X) ** 2).sum())\n",
    "\n",
    "# Perform a t-test to test if β1 is significantly different from 0\n",
    "t_statistic = beta_1 / standard_error\n",
    "dof = n - 2  # degrees of freedom for the t-distribution\n",
    "\n",
    "print(\" Test statistic : \",t_statistic)\n",
    "print(\" Degree of Freedom : \",dof)"
   ]
  },
  {
   "cell_type": "code",
   "execution_count": 27,
   "id": "b4fd27be",
   "metadata": {},
   "outputs": [
    {
     "name": "stdout",
     "output_type": "stream",
     "text": [
      " Critical Value : 2.3060041350333704\n"
     ]
    }
   ],
   "source": [
    "# Calculate the critical t-value for a two-tailed test\n",
    "t_critical = stats.t.ppf(1 - alpha / 2, df=dof)\n",
    "print(\" Critical Value :\",t_critical)"
   ]
  },
  {
   "cell_type": "code",
   "execution_count": 28,
   "id": "de286d02",
   "metadata": {},
   "outputs": [
    {
     "name": "stdout",
     "output_type": "stream",
     "text": [
      " P value :  0.0001381158290219009\n"
     ]
    }
   ],
   "source": [
    "# Calculate the p-value for a two-tailed test\n",
    "p_value = 2 * (1 - stats.t.cdf(abs(t_statistic), df=dof))\n",
    "print(\" P value : \",p_value)"
   ]
  },
  {
   "cell_type": "code",
   "execution_count": 29,
   "id": "38680c6d",
   "metadata": {},
   "outputs": [
    {
     "name": "stdout",
     "output_type": "stream",
     "text": [
      " Confidence Interval :  0.3731131890396292  ,  0.7562015971530548\n"
     ]
    }
   ],
   "source": [
    "LL = beta_1 - t_critical * standard_error\n",
    "UL = beta_1 + t_critical * standard_error\n",
    "print(\" Confidence Interval : \",LL,\" , \",UL)"
   ]
  },
  {
   "cell_type": "code",
   "execution_count": 30,
   "id": "0327308a",
   "metadata": {},
   "outputs": [
    {
     "name": "stdout",
     "output_type": "stream",
     "text": [
      "β1 is significantly different from 0 (Reject the null hypothesis).\n"
     ]
    }
   ],
   "source": [
    "if abs(t_statistic) > t_critical:\n",
    "    print(\"β1 is significantly different from 0 (Reject the null hypothesis).\")\n",
    "else:\n",
    "    print(\"β1 is not significantly different from 0 (Fail to reject the null hypothesis).\")"
   ]
  },
  {
   "cell_type": "code",
   "execution_count": 31,
   "id": "06ac93bf",
   "metadata": {},
   "outputs": [
    {
     "name": "stdout",
     "output_type": "stream",
     "text": [
      "β1 is significantly different from 0 (Reject the null hypothesis).\n"
     ]
    }
   ],
   "source": [
    "if p_value < alpha:\n",
    "    print(\"β1 is significantly different from 0 (Reject the null hypothesis).\")\n",
    "else:\n",
    "    print(\"β1 is not significantly different from 0 (Fail to reject the null hypothesis).\")"
   ]
  },
  {
   "cell_type": "markdown",
   "id": "a0e11633",
   "metadata": {},
   "source": [
    "## Calculate R square"
   ]
  },
  {
   "cell_type": "code",
   "execution_count": 32,
   "id": "8972dc4f",
   "metadata": {},
   "outputs": [
    {
     "data": {
      "text/html": [
       "<div>\n",
       "<style scoped>\n",
       "    .dataframe tbody tr th:only-of-type {\n",
       "        vertical-align: middle;\n",
       "    }\n",
       "\n",
       "    .dataframe tbody tr th {\n",
       "        vertical-align: top;\n",
       "    }\n",
       "\n",
       "    .dataframe thead th {\n",
       "        text-align: right;\n",
       "    }\n",
       "</style>\n",
       "<table border=\"1\" class=\"dataframe\">\n",
       "  <thead>\n",
       "    <tr style=\"text-align: right;\">\n",
       "      <th></th>\n",
       "      <th>X</th>\n",
       "      <th>Y</th>\n",
       "    </tr>\n",
       "  </thead>\n",
       "  <tbody>\n",
       "    <tr>\n",
       "      <th>0</th>\n",
       "      <td>18</td>\n",
       "      <td>17</td>\n",
       "    </tr>\n",
       "    <tr>\n",
       "      <th>1</th>\n",
       "      <td>23</td>\n",
       "      <td>18</td>\n",
       "    </tr>\n",
       "    <tr>\n",
       "      <th>2</th>\n",
       "      <td>25</td>\n",
       "      <td>20</td>\n",
       "    </tr>\n",
       "    <tr>\n",
       "      <th>3</th>\n",
       "      <td>35</td>\n",
       "      <td>30</td>\n",
       "    </tr>\n",
       "    <tr>\n",
       "      <th>4</th>\n",
       "      <td>40</td>\n",
       "      <td>31</td>\n",
       "    </tr>\n",
       "    <tr>\n",
       "      <th>5</th>\n",
       "      <td>19</td>\n",
       "      <td>18</td>\n",
       "    </tr>\n",
       "    <tr>\n",
       "      <th>6</th>\n",
       "      <td>45</td>\n",
       "      <td>32</td>\n",
       "    </tr>\n",
       "    <tr>\n",
       "      <th>7</th>\n",
       "      <td>33</td>\n",
       "      <td>22</td>\n",
       "    </tr>\n",
       "    <tr>\n",
       "      <th>8</th>\n",
       "      <td>29</td>\n",
       "      <td>23</td>\n",
       "    </tr>\n",
       "    <tr>\n",
       "      <th>9</th>\n",
       "      <td>39</td>\n",
       "      <td>25</td>\n",
       "    </tr>\n",
       "  </tbody>\n",
       "</table>\n",
       "</div>"
      ],
      "text/plain": [
       "    X   Y\n",
       "0  18  17\n",
       "1  23  18\n",
       "2  25  20\n",
       "3  35  30\n",
       "4  40  31\n",
       "5  19  18\n",
       "6  45  32\n",
       "7  33  22\n",
       "8  29  23\n",
       "9  39  25"
      ]
     },
     "execution_count": 32,
     "metadata": {},
     "output_type": "execute_result"
    }
   ],
   "source": [
    "pd.DataFrame({'X':X,'Y':Y})"
   ]
  },
  {
   "cell_type": "code",
   "execution_count": null,
   "id": "a5fe5426",
   "metadata": {},
   "outputs": [],
   "source": []
  },
  {
   "cell_type": "code",
   "execution_count": 33,
   "id": "483ba906",
   "metadata": {},
   "outputs": [
    {
     "name": "stdout",
     "output_type": "stream",
     "text": [
      "R-squared (Coefficient of Determination): 0.8524304446743677\n",
      "Intercept (beta_0) :  6.321483771251934\n",
      "Slope (beta_1) :  0.564657393096342\n"
     ]
    }
   ],
   "source": [
    "import numpy as np\n",
    "from scipy import stats\n",
    "\n",
    "# Calculate the coefficients (β0 and β1) of the linear regression model\n",
    "slope, intercept, r_value, p_value, std_err = stats.linregress(X, Y)\n",
    "\n",
    "# Calculate the predicted values\n",
    "predicted_Y = intercept + slope * X\n",
    "\n",
    "# Calculate the total sum of squares (TSS)\n",
    "mean_Y = np.mean(Y)\n",
    "TSS = np.sum((Y - mean_Y) ** 2)\n",
    "\n",
    "# Calculate the residual sum of squares (RSS)\n",
    "RSS = np.sum((Y - predicted_Y) ** 2)\n",
    "\n",
    "# Calculate the R-squared (coefficient of determination)\n",
    "R_squared = 1 - (RSS / TSS)\n",
    "\n",
    "# Display the result\n",
    "print(\"R-squared (Coefficient of Determination):\", R_squared)\n",
    "print(\"Intercept (beta_0) : \", intercept)\n",
    "print(\"Slope (beta_1) : \", slope)\n"
   ]
  },
  {
   "cell_type": "markdown",
   "id": "0f337602",
   "metadata": {},
   "source": [
    "### Linear regression"
   ]
  },
  {
   "cell_type": "code",
   "execution_count": 35,
   "id": "a3463f15",
   "metadata": {},
   "outputs": [],
   "source": [
    "\n",
    "# Split the data into independent and dependent variables\n",
    "X = data[['X']]\n",
    "Y = data['Y']"
   ]
  },
  {
   "cell_type": "code",
   "execution_count": 36,
   "id": "4a6e5a76",
   "metadata": {},
   "outputs": [
    {
     "data": {
      "text/html": [
       "<style>#sk-container-id-1 {color: black;background-color: white;}#sk-container-id-1 pre{padding: 0;}#sk-container-id-1 div.sk-toggleable {background-color: white;}#sk-container-id-1 label.sk-toggleable__label {cursor: pointer;display: block;width: 100%;margin-bottom: 0;padding: 0.3em;box-sizing: border-box;text-align: center;}#sk-container-id-1 label.sk-toggleable__label-arrow:before {content: \"▸\";float: left;margin-right: 0.25em;color: #696969;}#sk-container-id-1 label.sk-toggleable__label-arrow:hover:before {color: black;}#sk-container-id-1 div.sk-estimator:hover label.sk-toggleable__label-arrow:before {color: black;}#sk-container-id-1 div.sk-toggleable__content {max-height: 0;max-width: 0;overflow: hidden;text-align: left;background-color: #f0f8ff;}#sk-container-id-1 div.sk-toggleable__content pre {margin: 0.2em;color: black;border-radius: 0.25em;background-color: #f0f8ff;}#sk-container-id-1 input.sk-toggleable__control:checked~div.sk-toggleable__content {max-height: 200px;max-width: 100%;overflow: auto;}#sk-container-id-1 input.sk-toggleable__control:checked~label.sk-toggleable__label-arrow:before {content: \"▾\";}#sk-container-id-1 div.sk-estimator input.sk-toggleable__control:checked~label.sk-toggleable__label {background-color: #d4ebff;}#sk-container-id-1 div.sk-label input.sk-toggleable__control:checked~label.sk-toggleable__label {background-color: #d4ebff;}#sk-container-id-1 input.sk-hidden--visually {border: 0;clip: rect(1px 1px 1px 1px);clip: rect(1px, 1px, 1px, 1px);height: 1px;margin: -1px;overflow: hidden;padding: 0;position: absolute;width: 1px;}#sk-container-id-1 div.sk-estimator {font-family: monospace;background-color: #f0f8ff;border: 1px dotted black;border-radius: 0.25em;box-sizing: border-box;margin-bottom: 0.5em;}#sk-container-id-1 div.sk-estimator:hover {background-color: #d4ebff;}#sk-container-id-1 div.sk-parallel-item::after {content: \"\";width: 100%;border-bottom: 1px solid gray;flex-grow: 1;}#sk-container-id-1 div.sk-label:hover label.sk-toggleable__label {background-color: #d4ebff;}#sk-container-id-1 div.sk-serial::before {content: \"\";position: absolute;border-left: 1px solid gray;box-sizing: border-box;top: 0;bottom: 0;left: 50%;z-index: 0;}#sk-container-id-1 div.sk-serial {display: flex;flex-direction: column;align-items: center;background-color: white;padding-right: 0.2em;padding-left: 0.2em;position: relative;}#sk-container-id-1 div.sk-item {position: relative;z-index: 1;}#sk-container-id-1 div.sk-parallel {display: flex;align-items: stretch;justify-content: center;background-color: white;position: relative;}#sk-container-id-1 div.sk-item::before, #sk-container-id-1 div.sk-parallel-item::before {content: \"\";position: absolute;border-left: 1px solid gray;box-sizing: border-box;top: 0;bottom: 0;left: 50%;z-index: -1;}#sk-container-id-1 div.sk-parallel-item {display: flex;flex-direction: column;z-index: 1;position: relative;background-color: white;}#sk-container-id-1 div.sk-parallel-item:first-child::after {align-self: flex-end;width: 50%;}#sk-container-id-1 div.sk-parallel-item:last-child::after {align-self: flex-start;width: 50%;}#sk-container-id-1 div.sk-parallel-item:only-child::after {width: 0;}#sk-container-id-1 div.sk-dashed-wrapped {border: 1px dashed gray;margin: 0 0.4em 0.5em 0.4em;box-sizing: border-box;padding-bottom: 0.4em;background-color: white;}#sk-container-id-1 div.sk-label label {font-family: monospace;font-weight: bold;display: inline-block;line-height: 1.2em;}#sk-container-id-1 div.sk-label-container {text-align: center;}#sk-container-id-1 div.sk-container {/* jupyter's `normalize.less` sets `[hidden] { display: none; }` but bootstrap.min.css set `[hidden] { display: none !important; }` so we also need the `!important` here to be able to override the default hidden behavior on the sphinx rendered scikit-learn.org. See: https://github.com/scikit-learn/scikit-learn/issues/21755 */display: inline-block !important;position: relative;}#sk-container-id-1 div.sk-text-repr-fallback {display: none;}</style><div id=\"sk-container-id-1\" class=\"sk-top-container\"><div class=\"sk-text-repr-fallback\"><pre>LinearRegression()</pre><b>In a Jupyter environment, please rerun this cell to show the HTML representation or trust the notebook. <br />On GitHub, the HTML representation is unable to render, please try loading this page with nbviewer.org.</b></div><div class=\"sk-container\" hidden><div class=\"sk-item\"><div class=\"sk-estimator sk-toggleable\"><input class=\"sk-toggleable__control sk-hidden--visually\" id=\"sk-estimator-id-1\" type=\"checkbox\" checked><label for=\"sk-estimator-id-1\" class=\"sk-toggleable__label sk-toggleable__label-arrow\">LinearRegression</label><div class=\"sk-toggleable__content\"><pre>LinearRegression()</pre></div></div></div></div></div>"
      ],
      "text/plain": [
       "LinearRegression()"
      ]
     },
     "execution_count": 36,
     "metadata": {},
     "output_type": "execute_result"
    }
   ],
   "source": [
    "# Create a linear regression model\n",
    "model = LinearRegression()\n",
    "\n",
    "# Fit the model to the data\n",
    "model.fit(X, Y)\n"
   ]
  },
  {
   "cell_type": "code",
   "execution_count": 37,
   "id": "97817523",
   "metadata": {},
   "outputs": [
    {
     "name": "stdout",
     "output_type": "stream",
     "text": [
      "Intercept (β0): 6.321483771251927\n",
      "Slope (β1): 0.5646573930963423\n"
     ]
    }
   ],
   "source": [
    "# Get the intercept (β0) and slope (β1)\n",
    "intercept = model.intercept_\n",
    "slope = model.coef_[0]\n",
    "\n",
    "# Print the coefficients\n",
    "print(\"Intercept (β0):\", intercept)\n",
    "print(\"Slope (β1):\", slope)\n"
   ]
  },
  {
   "cell_type": "code",
   "execution_count": 38,
   "id": "c7fc9989",
   "metadata": {},
   "outputs": [
    {
     "data": {
      "text/plain": [
       "array([16.48531685, 19.30860381, 20.4379186 , 26.08449253, 28.9077795 ,\n",
       "       17.04997424, 31.73106646, 24.95517774, 22.69654817, 28.3431221 ])"
      ]
     },
     "execution_count": 38,
     "metadata": {},
     "output_type": "execute_result"
    }
   ],
   "source": [
    "# Make predictions using the model\n",
    "predicted_Y = model.predict(X)\n",
    "predicted_Y"
   ]
  },
  {
   "cell_type": "code",
   "execution_count": 39,
   "id": "1efcc4ec",
   "metadata": {},
   "outputs": [
    {
     "data": {
      "image/png": "[encoded data removed]",
      "text/plain": [
       "<Figure size 640x480 with 1 Axes>"
      ]
     },
     "metadata": {},
     "output_type": "display_data"
    }
   ],
   "source": [
    "\n",
    "# Create a scatter plot of the data points\n",
    "plt.scatter(X, Y, label=\"Data Points\")\n",
    "\n",
    "# Plot the regression line\n",
    "plt.plot(X, predicted_Y, color='red', label=\"Linear Regression Line\")\n",
    "\n",
    "# Add labels and a legend\n",
    "plt.xlabel(\"X\")\n",
    "plt.ylabel(\"Y\")\n",
    "plt.legend()\n",
    "\n",
    "# Display the plot\n",
    "plt.show()\n"
   ]
  }
 ],
 "metadata": {
  "kernelspec": {
   "display_name": "Python 3 (ipykernel)",
   "language": "python",
   "name": "python3"
  },
  "language_info": {
   "codemirror_mode": {
    "name": "ipython",
    "version": 3
   },
   "file_extension": ".py",
   "mimetype": "text/x-python",
   "name": "python",
   "nbconvert_exporter": "python",
   "pygments_lexer": "ipython3",
   "version": "3.10.9"
  }
 },
 "nbformat": 4,
 "nbformat_minor": 5
}
