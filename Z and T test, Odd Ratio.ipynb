{
 "cells": [
  {
   "cell_type": "markdown",
   "id": "898ca97c",
   "metadata": {},
   "source": [
    "## One sample Z test"
   ]
  },
  {
   "cell_type": "code",
   "execution_count": 1,
   "id": "836f0220",
   "metadata": {},
   "outputs": [],
   "source": [
    "import statsmodels.api as sm\n",
    "from scipy.stats import norm\n",
    "import scipy.stats as stats\n",
    "import numpy as np\n",
    "import math"
   ]
  },
  {
   "cell_type": "markdown",
   "id": "ae7f4ab1",
   "metadata": {},
   "source": [
    "### Hypothesis Testing"
   ]
  },
  {
   "cell_type": "code",
   "execution_count": 65,
   "id": "51f30ad2",
   "metadata": {},
   "outputs": [],
   "source": [
    "population_proportion = 0.85"
   ]
  },
  {
   "cell_type": "markdown",
   "id": "ee111a87",
   "metadata": {},
   "source": [
    "### Alpha"
   ]
  },
  {
   "cell_type": "code",
   "execution_count": 66,
   "id": "99235a65",
   "metadata": {},
   "outputs": [],
   "source": [
    "alpha = 0.05"
   ]
  },
  {
   "cell_type": "code",
   "execution_count": 4,
   "id": "ff6b36b2",
   "metadata": {},
   "outputs": [],
   "source": [
    "# Sample data\n",
    "success_count = 789  # Number of successes\n",
    "fail_count = 189\n",
    "total_count = 987   # Total number of trials\n",
    "n=total_count"
   ]
  },
  {
   "cell_type": "code",
   "execution_count": 5,
   "id": "3430c9b9",
   "metadata": {},
   "outputs": [
    {
     "name": "stdout",
     "output_type": "stream",
     "text": [
      "p_hat 0.7993920972644377\n"
     ]
    }
   ],
   "source": [
    "p_hat = success_count/total_count\n",
    "print(\"p_hat\", p_hat)"
   ]
  },
  {
   "cell_type": "code",
   "execution_count": 6,
   "id": "a14d1e00",
   "metadata": {},
   "outputs": [
    {
     "name": "stdout",
     "output_type": "stream",
     "text": [
      "-4.452683475222582\n"
     ]
    }
   ],
   "source": [
    "# Calculate the standard error\n",
    "standard_error = math.sqrt((population_proportion * (1 - population_proportion)) / n)\n",
    "\n",
    "# Calculate the test statistic (Z-score)\n",
    "z_score = (p_hat - population_proportion) / standard_error\n",
    "\n",
    "print(z_score)"
   ]
  },
  {
   "cell_type": "markdown",
   "id": "4d2b665e",
   "metadata": {},
   "source": [
    "### P-value"
   ]
  },
  {
   "cell_type": "code",
   "execution_count": 7,
   "id": "01326b80",
   "metadata": {},
   "outputs": [
    {
     "name": "stdout",
     "output_type": "stream",
     "text": [
      "8.480372172492423e-06\n",
      "Reject the null hypothesis. There is evidence of a difference from the population proportion.\n",
      "Z-statistic: -4.452683475222582\n",
      "P-value: 8.480372172492423e-06\n"
     ]
    }
   ],
   "source": [
    "p_value = 2 * (1 - norm.cdf(abs(z_score)))\n",
    "print(p_value)\n",
    "\n",
    "# Check if the p-value is less than alpha\n",
    "if p_value < alpha:\n",
    "    print(f\"Reject the null hypothesis. There is evidence of a difference from the population proportion.\")\n",
    "else:\n",
    "    print(f\"Fail to reject the null hypothesis. There is no evidence of a difference from the population proportion.\")\n",
    "\n",
    "# Print the test statistics and p-value\n",
    "print(f\"Z-statistic: {z_score}\")\n",
    "print(f\"P-value: {p_value}\")"
   ]
  },
  {
   "cell_type": "markdown",
   "id": "6c92fc5d",
   "metadata": {},
   "source": [
    "### Critical Value"
   ]
  },
  {
   "cell_type": "code",
   "execution_count": 8,
   "id": "c61c00dd",
   "metadata": {},
   "outputs": [
    {
     "name": "stdout",
     "output_type": "stream",
     "text": [
      "Critical Value: 1.959963984540054\n"
     ]
    }
   ],
   "source": [
    "\n",
    "critical_value = norm.ppf(1 - alpha/2)  # Calculate the critical value\n",
    "\n",
    "print(f\"Critical Value: {critical_value}\")"
   ]
  },
  {
   "cell_type": "markdown",
   "id": "bd803050",
   "metadata": {},
   "source": [
    "### Confidence Interval"
   ]
  },
  {
   "cell_type": "code",
   "execution_count": 9,
   "id": "77064ab5",
   "metadata": {},
   "outputs": [
    {
     "name": "stdout",
     "output_type": "stream",
     "text": [
      "Confidence Interval: (0.7744091622232083, 0.8243750323056671)\n"
     ]
    }
   ],
   "source": [
    "# Calculate the margin of error\n",
    "margin_of_error = critical_value * (p_hat * (1 - p_hat) / n)**0.5\n",
    "\n",
    "# Calculate the confidence interval\n",
    "confidence_interval = (p_hat - margin_of_error, p_hat + margin_of_error)\n",
    "\n",
    "print(f\"Confidence Interval: {confidence_interval}\")"
   ]
  },
  {
   "cell_type": "markdown",
   "id": "f7bcab5e",
   "metadata": {},
   "source": [
    "# Alternate Method"
   ]
  },
  {
   "cell_type": "code",
   "execution_count": 67,
   "id": "d6a62503",
   "metadata": {},
   "outputs": [],
   "source": [
    "import math\n",
    "from scipy.stats import stats"
   ]
  },
  {
   "cell_type": "code",
   "execution_count": 68,
   "id": "cf29669a",
   "metadata": {},
   "outputs": [],
   "source": [
    "alpha=0.05"
   ]
  },
  {
   "cell_type": "code",
   "execution_count": 86,
   "id": "93de82c5",
   "metadata": {},
   "outputs": [],
   "source": [
    "population_mean = 40  # Estimated population average\n",
    "population_variance = 9  # Population variance"
   ]
  },
  {
   "cell_type": "code",
   "execution_count": 87,
   "id": "21f62234",
   "metadata": {},
   "outputs": [],
   "source": [
    "sample_mean = 40.7  # Average waist circumference in your sample\n",
    "sample_variance = 10  # Sample variance\n",
    "sample_size = 55"
   ]
  },
  {
   "cell_type": "code",
   "execution_count": 88,
   "id": "e15f8ab3",
   "metadata": {},
   "outputs": [],
   "source": [
    "\n",
    "# Calculate the standard error of the sample mean\n",
    "standard_error = math.sqrt(population_variance / sample_size)\n",
    "\n",
    "# Calculate the Z-score\n",
    "z_score = (sample_mean - population_mean) / (standard_error)"
   ]
  },
  {
   "cell_type": "code",
   "execution_count": 89,
   "id": "239515fe",
   "metadata": {},
   "outputs": [],
   "source": [
    "# Find the critical Z-value for a two-tailed test at alpha/2 level\n",
    "critical_value = norm.ppf(1 - alpha / 2)\n"
   ]
  },
  {
   "cell_type": "code",
   "execution_count": 90,
   "id": "78fe5652",
   "metadata": {},
   "outputs": [
    {
     "name": "stdout",
     "output_type": "stream",
     "text": [
      "Fail to reject the null hypothesis. There is no evidence that the average waist circumference is different from the estimated population average.\n",
      "Z-score: 1.7304\n",
      "Critical Z-value: 1.9600\n",
      "Significance Level (alpha): 0.05\n"
     ]
    }
   ],
   "source": [
    "# Determine whether to reject the null hypothesis\n",
    "if abs(z_score) > critical_value:\n",
    "    print(\"Reject the null hypothesis. There is evidence that the average waist circumference is different from the estimated population average.\")\n",
    "else:\n",
    "    print(\"Fail to reject the null hypothesis. There is no evidence that the average waist circumference is different from the estimated population average.\")\n",
    "\n",
    "# Print the Z-score, critical value, and significance level\n",
    "print(f\"Z-score: {z_score:.4f}\")\n",
    "print(f\"Critical Z-value: {critical_value:.4f}\")\n",
    "print(f\"Significance Level (alpha): {alpha}\")"
   ]
  },
  {
   "cell_type": "code",
   "execution_count": 91,
   "id": "5fdfb800",
   "metadata": {},
   "outputs": [
    {
     "name": "stdout",
     "output_type": "stream",
     "text": [
      "Confidence Interval: (39.907155530714114, 41.49284446928589)\n"
     ]
    }
   ],
   "source": [
    "# Calculate the margin of error\n",
    "margin_of_error = critical_value * standard_error\n",
    "\n",
    "# Calculate the confidence interval\n",
    "confidence_interval = (sample_mean - margin_of_error, sample_mean + margin_of_error)\n",
    "\n",
    "print(f\"Confidence Interval: {confidence_interval}\")"
   ]
  },
  {
   "cell_type": "code",
   "execution_count": null,
   "id": "b521224b",
   "metadata": {},
   "outputs": [],
   "source": []
  },
  {
   "cell_type": "code",
   "execution_count": null,
   "id": "58bc2cb7",
   "metadata": {},
   "outputs": [],
   "source": []
  },
  {
   "cell_type": "markdown",
   "id": "a346e355",
   "metadata": {},
   "source": [
    "### Two Sample Z-test"
   ]
  },
  {
   "cell_type": "code",
   "execution_count": 1,
   "id": "e7d6d5ab",
   "metadata": {},
   "outputs": [],
   "source": [
    "\n",
    "from scipy.stats import norm\n",
    "import scipy.stats as stats\n",
    "import numpy as np\n",
    "import math"
   ]
  },
  {
   "cell_type": "markdown",
   "id": "78e92640",
   "metadata": {},
   "source": [
    "### Hypothesis Testing"
   ]
  },
  {
   "cell_type": "code",
   "execution_count": 2,
   "id": "abf1a578",
   "metadata": {},
   "outputs": [],
   "source": [
    "delta = 0"
   ]
  },
  {
   "cell_type": "markdown",
   "id": "ca0e45b2",
   "metadata": {},
   "source": [
    "### Alpha"
   ]
  },
  {
   "cell_type": "code",
   "execution_count": 3,
   "id": "59c7a97f",
   "metadata": {},
   "outputs": [],
   "source": [
    "alpha = 0.05"
   ]
  },
  {
   "cell_type": "code",
   "execution_count": 4,
   "id": "e6fa690d",
   "metadata": {},
   "outputs": [],
   "source": [
    "# Sample data for the first group\n",
    "s1 = 356.13 # Sample proportion for the first group\n",
    "n1 = 1319        # Sample size for the first group\n",
    "\n",
    "# Sample data for the second group\n",
    "s2 = 461.65  # Sample proportion for the second group\n",
    "n2 = 1319        # Sample size for the second group"
   ]
  },
  {
   "cell_type": "code",
   "execution_count": 5,
   "id": "6b6a3a0c",
   "metadata": {},
   "outputs": [
    {
     "name": "stdout",
     "output_type": "stream",
     "text": [
      "P hat 1 0.27\n",
      "P hat 2 0.35\n"
     ]
    }
   ],
   "source": [
    "p_hat_1 = s1/n1\n",
    "p_hat_2 = s2/n2\n",
    "\n",
    "print(\"P hat 1\", p_hat_1)\n",
    "print(\"P hat 2\", p_hat_2)"
   ]
  },
  {
   "cell_type": "markdown",
   "id": "7cc2eb1d",
   "metadata": {},
   "source": [
    "### Z Stats"
   ]
  },
  {
   "cell_type": "code",
   "execution_count": 6,
   "id": "f9f28e35",
   "metadata": {},
   "outputs": [
    {
     "name": "stdout",
     "output_type": "stream",
     "text": [
      "z_score :  -4.458845147244199\n"
     ]
    }
   ],
   "source": [
    "# Calculate the standard error for each group\n",
    "se_1 = math.sqrt((p_hat_1 * (1 - p_hat_1)) / n1)\n",
    "se_2 = math.sqrt((p_hat_2 * (1 - p_hat_2)) / n2)\n",
    "\n",
    "# Calculate the test statistic (Z-score)\n",
    "z_score = (p_hat_1 - p_hat_2-delta) / math.sqrt(se_1**2 + se_2**2)\n",
    "\n",
    "print(\"z_score : \",z_score)\n"
   ]
  },
  {
   "cell_type": "markdown",
   "id": "cba7904d",
   "metadata": {},
   "source": [
    "### P- Value"
   ]
  },
  {
   "cell_type": "code",
   "execution_count": 8,
   "id": "e32867f1",
   "metadata": {},
   "outputs": [
    {
     "name": "stdout",
     "output_type": "stream",
     "text": [
      "P-value: 8.240242421964084e-06\n"
     ]
    }
   ],
   "source": [
    "# Calculate the two-tailed p-value\n",
    "p_value = 2 * (1 - norm.cdf(abs(z_score)))\n",
    "print(f\"P-value: {p_value}\")"
   ]
  },
  {
   "cell_type": "code",
   "execution_count": 9,
   "id": "8beb8841",
   "metadata": {},
   "outputs": [
    {
     "name": "stdout",
     "output_type": "stream",
     "text": [
      "Reject the null hypothesis. There is evidence of a difference between the two proportions.\n"
     ]
    }
   ],
   "source": [
    "# Determine whether to reject the null hypothesis based on the p-value\n",
    "if p_value < alpha:\n",
    "    print(f\"Reject the null hypothesis. There is evidence of a difference between the two proportions.\")\n",
    "else:\n",
    "    print(f\"Fail to reject the null hypothesis. There is no evidence of a difference between the two proportions.\")"
   ]
  },
  {
   "cell_type": "markdown",
   "id": "f6307548",
   "metadata": {},
   "source": [
    "### Critical value"
   ]
  },
  {
   "cell_type": "code",
   "execution_count": 10,
   "id": "5a2028fa",
   "metadata": {},
   "outputs": [
    {
     "name": "stdout",
     "output_type": "stream",
     "text": [
      "Critical Value : 1.959963984540054\n"
     ]
    }
   ],
   "source": [
    "critical_value = norm.ppf(1 - alpha/2)\n",
    "print(\"Critical Value :\",critical_value )"
   ]
  },
  {
   "cell_type": "markdown",
   "id": "bf261356",
   "metadata": {},
   "source": [
    "## Confidence Interval"
   ]
  },
  {
   "cell_type": "code",
   "execution_count": 17,
   "id": "7f1eebbb",
   "metadata": {},
   "outputs": [
    {
     "name": "stdout",
     "output_type": "stream",
     "text": [
      "Confidence Interval :  (-0.1151654102318653, -0.044834589768134626)\n"
     ]
    }
   ],
   "source": [
    "# Calculate the confidence interval for each group\n",
    "conf_interval = (p_hat_1-p_hat_2 - critical_value * math.sqrt(se_1**2 + se_2**2), p_hat_1-p_hat_2 + critical_value * math.sqrt(se_1**2 + se_2**2))\n",
    "\n",
    "print(\"Confidence Interval : \", conf_interval)\n"
   ]
  },
  {
   "cell_type": "code",
   "execution_count": 19,
   "id": "65a45ea0",
   "metadata": {},
   "outputs": [
    {
     "name": "stdout",
     "output_type": "stream",
     "text": [
      "Reject the null hypothesis. There is evidence of a difference between the two proportions.\n"
     ]
    }
   ],
   "source": [
    "# Determine whether the confidence intervals overlap or not\n",
    "if conf_interval[1] < delta or conf_interval[0] > delta:\n",
    "    print(f\"Reject the null hypothesis. There is evidence of a difference between the two proportions.\")\n",
    "else:\n",
    "    print(f\"Fail to reject the null hypothesis. There is no evidence of a difference between the two proportions.\")\n"
   ]
  },
  {
   "cell_type": "markdown",
   "id": "19800080",
   "metadata": {},
   "source": [
    "# Odds ratio"
   ]
  },
  {
   "cell_type": "code",
   "execution_count": 43,
   "id": "30a895a5",
   "metadata": {},
   "outputs": [],
   "source": [
    "import scipy.stats as stats\n",
    "import numpy as np\n",
    "import math"
   ]
  },
  {
   "cell_type": "code",
   "execution_count": 44,
   "id": "d46ef143",
   "metadata": {},
   "outputs": [],
   "source": [
    "alpha = 0.05"
   ]
  },
  {
   "cell_type": "code",
   "execution_count": 45,
   "id": "6e2d98b6",
   "metadata": {},
   "outputs": [],
   "source": [
    "observed = np.array([[12612,9248],[500,752]])"
   ]
  },
  {
   "cell_type": "markdown",
   "id": "e1bbc2cc",
   "metadata": {},
   "source": [
    "### Odds Ratio"
   ]
  },
  {
   "cell_type": "code",
   "execution_count": 47,
   "id": "9cd62543",
   "metadata": {},
   "outputs": [
    {
     "name": "stdout",
     "output_type": "stream",
     "text": [
      "Odds Ratio :  2.0510865051903115\n"
     ]
    }
   ],
   "source": [
    "odds_ratio = (observed[0, 0] * observed[1, 1]) / (observed[0, 1] * observed[1, 0])\n",
    "print(\"Odds Ratio : \", odds_ratio)"
   ]
  },
  {
   "cell_type": "markdown",
   "id": "d7d086fe",
   "metadata": {},
   "source": [
    "### P- value"
   ]
  },
  {
   "cell_type": "code",
   "execution_count": 48,
   "id": "80f1d798",
   "metadata": {},
   "outputs": [
    {
     "name": "stdout",
     "output_type": "stream",
     "text": [
      "Odd ratio :  2.0510865051903115\n",
      "p Value : 1.6236973626213926e-34\n"
     ]
    }
   ],
   "source": [
    "odds_ratio, p_value = stats.fisher_exact(observed)\n",
    "print(\"Odd ratio : \", odds_ratio)\n",
    "print(\"p Value :\",p_value)"
   ]
  },
  {
   "cell_type": "markdown",
   "id": "d3241ccd",
   "metadata": {},
   "source": [
    "### Critical Value"
   ]
  },
  {
   "cell_type": "code",
   "execution_count": 49,
   "id": "8630f0a8",
   "metadata": {},
   "outputs": [
    {
     "name": "stdout",
     "output_type": "stream",
     "text": [
      "Critical Value : 1.959963984540054\n"
     ]
    }
   ],
   "source": [
    "critical_value = norm.ppf(1 - alpha/2)\n",
    "print(\"Critical Value :\",critical_value )"
   ]
  },
  {
   "cell_type": "markdown",
   "id": "ccd97ad8",
   "metadata": {},
   "source": [
    "### Confidence Interval"
   ]
  },
  {
   "cell_type": "code",
   "execution_count": 50,
   "id": "ae6ab492",
   "metadata": {},
   "outputs": [],
   "source": [
    "ln_OR = np.log(odds_ratio)\n",
    "se_ln_OR = np.sqrt(1 / observed[0, 0] + 1 / observed[0, 1] + 1 / observed[1, 0] + 1 / observed[1, 1])\n",
    "z_alpha_2 = stats.norm.ppf(1 - alpha/2)"
   ]
  },
  {
   "cell_type": "code",
   "execution_count": 51,
   "id": "1a995d60",
   "metadata": {},
   "outputs": [],
   "source": [
    "lower_bound = np.exp(ln_OR - z_alpha_2 * se_ln_OR)\n",
    "upper_bound = np.exp(ln_OR + z_alpha_2 * se_ln_OR)"
   ]
  },
  {
   "cell_type": "code",
   "execution_count": 52,
   "id": "0bc7a2b6",
   "metadata": {},
   "outputs": [
    {
     "name": "stdout",
     "output_type": "stream",
     "text": [
      "Z Score : 12.11292240283246\n"
     ]
    }
   ],
   "source": [
    "alpha = 0.05\n",
    "z_test = (ln_OR - np.log(1)) / se_ln_OR \n",
    "print(\"Z Score :\",z_test)"
   ]
  },
  {
   "cell_type": "code",
   "execution_count": 53,
   "id": "0bb646b2",
   "metadata": {},
   "outputs": [
    {
     "name": "stdout",
     "output_type": "stream",
     "text": [
      "p Value :  0.0\n"
     ]
    }
   ],
   "source": [
    "p_value = 2 * (1 - stats.norm.cdf(np.abs(z_test)))\n",
    "print(\"p Value : \", p_value)"
   ]
  },
  {
   "cell_type": "code",
   "execution_count": 55,
   "id": "3a8977c8",
   "metadata": {},
   "outputs": [
    {
     "name": "stdout",
     "output_type": "stream",
     "text": [
      "Odds Ratio: 2.05108651\n",
      "95% Confidence Interval for OR: (1.82600756, 2.30390933)\n",
      "P-value for the hypothesis test :  0.0\n"
     ]
    }
   ],
   "source": [
    "# Output results\n",
    "print(f\"Odds Ratio: {odds_ratio:.8f}\")\n",
    "print(f\"95% Confidence Interval for OR: ({lower_bound:.8f}, {upper_bound:.8f})\")\n",
    "print(\"P-value for the hypothesis test : \",p_value)\n"
   ]
  },
  {
   "cell_type": "code",
   "execution_count": 30,
   "id": "00823f67",
   "metadata": {},
   "outputs": [
    {
     "name": "stdout",
     "output_type": "stream",
     "text": [
      "Reject the null hypothesis. There is evidence of a significant association.\n"
     ]
    }
   ],
   "source": [
    "# Decide based on the p-value\n",
    "if p_value < alpha:\n",
    "    print(\"Reject the null hypothesis. There is evidence of a significant association.\")\n",
    "else:\n",
    "    print(\"Fail to reject the null hypothesis. There is no evidence of a significant association.\")"
   ]
  },
  {
   "cell_type": "code",
   "execution_count": null,
   "id": "89a2def6",
   "metadata": {},
   "outputs": [],
   "source": []
  },
  {
   "cell_type": "code",
   "execution_count": null,
   "id": "6f7051fe",
   "metadata": {},
   "outputs": [],
   "source": []
  },
  {
   "cell_type": "markdown",
   "id": "336c03a5",
   "metadata": {},
   "source": [
    "## T- Test statistic"
   ]
  },
  {
   "cell_type": "code",
   "execution_count": 56,
   "id": "319f4b03",
   "metadata": {},
   "outputs": [],
   "source": [
    "# Set the significance level (alpha)\n",
    "alpha = 0.05"
   ]
  },
  {
   "cell_type": "code",
   "execution_count": 57,
   "id": "b9f70fd7",
   "metadata": {},
   "outputs": [],
   "source": [
    "sample_mean = 11750  # Average white blood cell count\n",
    "sample_size = 354    # Sample size\n",
    "sample_stddev = 1725  # Standard deviation"
   ]
  },
  {
   "cell_type": "code",
   "execution_count": 58,
   "id": "58fe50c9",
   "metadata": {},
   "outputs": [],
   "source": [
    "population_mean = 11000  # Upper normal range"
   ]
  },
  {
   "cell_type": "code",
   "execution_count": 59,
   "id": "b6c87211",
   "metadata": {},
   "outputs": [
    {
     "name": "stdout",
     "output_type": "stream",
     "text": [
      "Degree of Freedom :  353\n"
     ]
    }
   ],
   "source": [
    "df = sample_size - 1\n",
    "print(\"Degree of Freedom : \", df)"
   ]
  },
  {
   "cell_type": "code",
   "execution_count": 60,
   "id": "232eeb4e",
   "metadata": {},
   "outputs": [
    {
     "name": "stdout",
     "output_type": "stream",
     "text": [
      "Test Statistic :  8.180385966185556\n"
     ]
    }
   ],
   "source": [
    "# Perform a one-sample t-test\n",
    "t_statistic = (sample_mean - population_mean) / (sample_stddev / np.sqrt(sample_size))\n",
    "print(\"Test Statistic : \", t_statistic)\n"
   ]
  },
  {
   "cell_type": "code",
   "execution_count": 61,
   "id": "1bb9db3e",
   "metadata": {},
   "outputs": [
    {
     "name": "stdout",
     "output_type": "stream",
     "text": [
      "p value :  5.10702591327572e-15\n"
     ]
    }
   ],
   "source": [
    "p_value = 2 * (1 - stats.t.cdf(np.abs(t_statistic), df))\n",
    "print(\"p value : \",p_value)"
   ]
  },
  {
   "cell_type": "markdown",
   "id": "9488e1d6",
   "metadata": {},
   "source": [
    "### Critical Value"
   ]
  },
  {
   "cell_type": "code",
   "execution_count": 62,
   "id": "6a895e9e",
   "metadata": {},
   "outputs": [
    {
     "name": "stdout",
     "output_type": "stream",
     "text": [
      "Critical t-value: 1.9667\n"
     ]
    }
   ],
   "source": [
    "# Calculate the critical t-value for a two-tailed test\n",
    "t_critical = stats.t.ppf(1 - alpha/2, df)\n",
    "print(f\"Critical t-value: {t_critical:.4f}\")"
   ]
  },
  {
   "cell_type": "code",
   "execution_count": 63,
   "id": "24def127",
   "metadata": {},
   "outputs": [],
   "source": [
    "# Calculate the standard error of the mean\n",
    "se_mean = sample_stddev / (sample_size ** 0.5)\n"
   ]
  },
  {
   "cell_type": "code",
   "execution_count": 39,
   "id": "89c2c55e",
   "metadata": {},
   "outputs": [],
   "source": [
    "# Calculate the confidence interval for the mean\n",
    "margin_of_error = t_critical * se_mean\n",
    "confidence_interval = (sample_mean - margin_of_error, sample_mean + margin_of_error)\n"
   ]
  },
  {
   "cell_type": "code",
   "execution_count": 40,
   "id": "ee51e9a1",
   "metadata": {},
   "outputs": [
    {
     "name": "stdout",
     "output_type": "stream",
     "text": [
      "T-statistic: 8.1804\n",
      "P-value: 0.0000\n",
      "Critical t-value: 1.9667\n",
      "95% Confidence Interval: (11569.6870, 11930.3130)\n"
     ]
    }
   ],
   "source": [
    "# Output results\n",
    "print(f\"T-statistic: {t_statistic:.4f}\")\n",
    "print(f\"P-value: {p_value:.4f}\")\n",
    "print(f\"Critical t-value: {t_critical:.4f}\")\n",
    "print(f\"95% Confidence Interval: ({confidence_interval[0]:.4f}, {confidence_interval[1]:.4f})\")\n"
   ]
  },
  {
   "cell_type": "code",
   "execution_count": 64,
   "id": "10c7e5d0",
   "metadata": {},
   "outputs": [
    {
     "name": "stdout",
     "output_type": "stream",
     "text": [
      "Reject the null hypothesis. There is evidence that the average white blood cell count is different from 11,000.\n"
     ]
    }
   ],
   "source": [
    "# Decide based on the p-value\n",
    "if p_value < alpha:\n",
    "    print(\"Reject the null hypothesis. There is evidence that the average white blood cell count is different from 11,000.\")\n",
    "else:\n",
    "    print(\"Fail to reject the null hypothesis. There is no evidence that the average white blood cell count is different from 11,000.\")"
   ]
  },
  {
   "cell_type": "markdown",
   "id": "72b4c076",
   "metadata": {},
   "source": [
    "# NcNemar test"
   ]
  },
  {
   "cell_type": "code",
   "execution_count": 42,
   "id": "d00f54fb",
   "metadata": {},
   "outputs": [],
   "source": [
    "from scipy.stats import chi2\n",
    "from scipy.stats import chi2_contingency\n",
    "import scipy.stats as stats\n",
    "import numpy as np"
   ]
  },
  {
   "cell_type": "code",
   "execution_count": 43,
   "id": "738181d2",
   "metadata": {},
   "outputs": [],
   "source": [
    "alpha = 0.05"
   ]
  },
  {
   "cell_type": "code",
   "execution_count": 44,
   "id": "aaff79df",
   "metadata": {},
   "outputs": [],
   "source": [
    "df=1"
   ]
  },
  {
   "cell_type": "code",
   "execution_count": 45,
   "id": "a4cc8eb3",
   "metadata": {},
   "outputs": [],
   "source": [
    "# Create a contingency table with paired data\n",
    "table = np.array([[306, 142], [376, 709]])"
   ]
  },
  {
   "cell_type": "code",
   "execution_count": 46,
   "id": "ead234ba",
   "metadata": {},
   "outputs": [
    {
     "name": "stdout",
     "output_type": "stream",
     "text": [
      "Chi-squared statistic: 105.70656371\n"
     ]
    }
   ],
   "source": [
    "# Perform McNemar's test\n",
    "chi2_stat=(table[0,1] - table[1,0])**2 / (table[0,1] + table[1,0])\n",
    "print(f\"Chi-squared statistic: {chi2_stat:.8f}\")"
   ]
  },
  {
   "cell_type": "code",
   "execution_count": 47,
   "id": "c22ffcc5",
   "metadata": {},
   "outputs": [
    {
     "name": "stdout",
     "output_type": "stream",
     "text": [
      "P-value: 0.0000\n"
     ]
    }
   ],
   "source": [
    "# Perform the McNemar's test\n",
    "p_value = 1 - stats.chi2.cdf(chi2_stat, df)\n",
    "print(f\"P-value: {p_value:.4f}\")"
   ]
  },
  {
   "cell_type": "markdown",
   "id": "426ffaf2",
   "metadata": {},
   "source": [
    "### Critical Value"
   ]
  },
  {
   "cell_type": "code",
   "execution_count": 48,
   "id": "03c5d1eb",
   "metadata": {},
   "outputs": [
    {
     "name": "stdout",
     "output_type": "stream",
     "text": [
      "Critical value : 3.841458820694124\n"
     ]
    }
   ],
   "source": [
    "critical_value = stats.chi2.ppf(1 - alpha, df)\n",
    "print(\"Critical value :\",critical_value)"
   ]
  },
  {
   "cell_type": "code",
   "execution_count": 49,
   "id": "171369ce",
   "metadata": {},
   "outputs": [
    {
     "name": "stdout",
     "output_type": "stream",
     "text": [
      "Reject the null hypothesis. There is evidence of a significant difference.\n"
     ]
    }
   ],
   "source": [
    "\n",
    "# Decide based on the p-value\n",
    "if p_value < alpha:\n",
    "    print(\"Reject the null hypothesis. There is evidence of a significant difference.\")\n",
    "else:\n",
    "    print(\"Fail to reject the null hypothesis. There is no evidence of a significant difference.\")"
   ]
  },
  {
   "cell_type": "markdown",
   "id": "75bc9090",
   "metadata": {},
   "source": [
    "# Chi Square Test"
   ]
  },
  {
   "cell_type": "code",
   "execution_count": 92,
   "id": "702d389e",
   "metadata": {},
   "outputs": [],
   "source": [
    "import numpy as np\n",
    "from scipy.stats import chi2_contingency\n",
    "from scipy.stats import chi2\n",
    "import scipy.stats as stats"
   ]
  },
  {
   "cell_type": "code",
   "execution_count": 93,
   "id": "1abc1f68",
   "metadata": {},
   "outputs": [],
   "source": [
    "alpha = 0.05"
   ]
  },
  {
   "cell_type": "code",
   "execution_count": 108,
   "id": "98102c51",
   "metadata": {},
   "outputs": [
    {
     "name": "stdout",
     "output_type": "stream",
     "text": [
      "[[98 86 35]\n",
      " [29 47 23]\n",
      " [17  9 17]]\n"
     ]
    }
   ],
   "source": [
    "observed = np.array([[98,86,35],[29,47,23],[17,9,17]])\n",
    "print(observed)"
   ]
  },
  {
   "cell_type": "code",
   "execution_count": 109,
   "id": "437a1cde",
   "metadata": {},
   "outputs": [],
   "source": [
    "chi2, p, dof, expected = chi2_contingency(observed)"
   ]
  },
  {
   "cell_type": "markdown",
   "id": "defcb6db",
   "metadata": {},
   "source": [
    "#### Critical value"
   ]
  },
  {
   "cell_type": "code",
   "execution_count": 110,
   "id": "91cc253d",
   "metadata": {},
   "outputs": [
    {
     "name": "stdout",
     "output_type": "stream",
     "text": [
      "Critical value : 9.487729036781154\n"
     ]
    }
   ],
   "source": [
    "critical_value = stats.chi2.ppf(1 - alpha, dof)\n",
    "print(\"Critical value :\",critical_value)"
   ]
  },
  {
   "cell_type": "code",
   "execution_count": 111,
   "id": "5060b7fd",
   "metadata": {},
   "outputs": [
    {
     "name": "stdout",
     "output_type": "stream",
     "text": [
      "Chi Square Test Statistic : 19.449043202964845\n"
     ]
    }
   ],
   "source": [
    "print(\"Chi Square Test Statistic :\",chi2)"
   ]
  },
  {
   "cell_type": "code",
   "execution_count": 112,
   "id": "ca16c578",
   "metadata": {},
   "outputs": [
    {
     "name": "stdout",
     "output_type": "stream",
     "text": [
      "p value : 0.0006413156788376182\n"
     ]
    }
   ],
   "source": [
    "print(\"p value :\",p)"
   ]
  },
  {
   "cell_type": "code",
   "execution_count": 113,
   "id": "e53d84ab",
   "metadata": {},
   "outputs": [
    {
     "name": "stdout",
     "output_type": "stream",
     "text": [
      "Degree of Freedom : 4\n"
     ]
    }
   ],
   "source": [
    "print(\"Degree of Freedom :\", dof)"
   ]
  },
  {
   "cell_type": "code",
   "execution_count": 114,
   "id": "e6f13d2f",
   "metadata": {},
   "outputs": [
    {
     "name": "stdout",
     "output_type": "stream",
     "text": [
      "Expected values : \n",
      " [[87.35734072 86.14404432 45.49861496]\n",
      " [39.49030471 38.94182825 20.56786704]\n",
      " [17.15235457 16.91412742  8.93351801]]\n"
     ]
    }
   ],
   "source": [
    "print(\"Expected values : \\n\",expected)"
   ]
  },
  {
   "cell_type": "code",
   "execution_count": null,
   "id": "9880347b",
   "metadata": {},
   "outputs": [],
   "source": []
  },
  {
   "cell_type": "code",
   "execution_count": null,
   "id": "8dd2a24e",
   "metadata": {},
   "outputs": [],
   "source": []
  }
 ],
 "metadata": {
  "kernelspec": {
   "display_name": "Python 3 (ipykernel)",
   "language": "python",
   "name": "python3"
  },
  "language_info": {
   "codemirror_mode": {
    "name": "ipython",
    "version": 3
   },
   "file_extension": ".py",
   "mimetype": "text/x-python",
   "name": "python",
   "nbconvert_exporter": "python",
   "pygments_lexer": "ipython3",
   "version": "3.10.9"
  }
 },
 "nbformat": 4,
 "nbformat_minor": 5
}
